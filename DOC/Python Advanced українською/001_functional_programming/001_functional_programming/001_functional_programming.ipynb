{
 "cells": [
  {
   "cell_type": "markdown",
   "metadata": {},
   "source": [
    "## Елементи функціонального програмування\n",
    "\n",
    "Докладніше теорія викладена [тут](https://uk.wikipedia.org/wiki/%D0%A4%D1%83%D0%BD%D0%BA%D1%86%D1%96%D0%B9%D0%BD%D0%B5_%D0%BF%D1%80%D0%BE%D0%B3%D1%80%D0%B0%D0%BC%D1%83%D0%B2%D0%B0%D0%BD%D0%BD%D1%8F)\n",
    "\n",
    "Ми ж з Вами зосередимось, в основному, на практичній частині, приділив теоретичному матеріалу мінімально необхідний час.\n",
    "\n",
    "---\n",
    "\n",
    "### Що таке функціональне програмування?\n",
    "\n",
    "**Функціональне програмування (далі — ФП)** — це парадигма програмування, в якій основним методом обчислень є результат функції.\n",
    "\n",
    "ФП передбачає використовувати обчислення результатів функцій в залежності від вхідних даних. Стан програми не зберігається. Відповідно, стан не змінюється, на відміну від імперативного, де однією з базових концепцій є змінна, що зберігає своє значення і дозволяє змінювати у міру виконання алгоритму.\n",
    "Насправді відмінність математичної функції від поняття «функції» в імперативному програмуванні полягає у тому, що імперативні функції можуть спиратися як на аргументи, так й стан зовнішніх, стосовно функції, змінних, та навіть мати побічні ефекти та змінювати стан зовнішніх змінних.\n",
    "Подивимось як працює, наприклад, функція **print**. Поміркуйте — що вона повертає і від чого це залежить?"
   ]
  },
  {
   "cell_type": "code",
   "execution_count": 234,
   "metadata": {},
   "outputs": [
    {
     "name": "stdout",
     "output_type": "stream",
     "text": [
      "Привіт всім!\n",
      "Hi!\n",
      "a: None, b: None, sep='\n",
      "\n"
     ]
    }
   ],
   "source": [
    "a = print(\"Привіт всім!\")\n",
    "b = print(\"Hi!\")\n",
    "print(f\"a: {a}, b: {b}, sep='\\n\")"
   ]
  },
  {
   "cell_type": "markdown",
   "metadata": {},
   "source": [
    "Функція **print** повертає **None** — незалежно від того, які їй передали аргументи. Щонайбільше, її виконання мало якийсь \"побічний ефект\" — щось було надруковано. І це, жодним чином, не пов'язано з тим, що вона повернула.\n",
    "\n",
    "Можна навести приклади функцій, результат роботи яких буде відрізнятись в залежності від, наприклад, попереднього виклику цієї ж функції, зважаючи на передачу їм в обох випадках тих же аргументів.\n",
    "\n",
    "Отже, функціональне програмування не працює з такими функціями.\n",
    "Такі функції відносять до [імперативної парадигми програмування](https://uk.wikipedia.org/wiki/%D0%86%D0%BC%D0%BF%D0%B5%D1%80%D0%B0%D1%82%D0%B8%D0%B2%D0%BD%D0%B5_%D0%BF%D1%80%D0%BE%D0%B3%D1%80%D0%B0%D0%BC%D1%83%D0%B2%D0%B0%D0%BD%D0%BD%D1%8F).\n",
    "\n",
    "Таким чином, в імперативному програмуванні при виклику однієї й тієї ж функції з однаковими параметрами, але на різних етапах виконання алгоритму можна отримати різні дані на виході через вплив на функцію стану змінних."
   ]
  },
  {
   "cell_type": "markdown",
   "metadata": {},
   "source": [
    "У функціональній мові програмування при виклику функції з одними й тими самими аргументами ми матимемо однаковий результат. Вихідні дані залежать тільки від вхідних. Це дозволяє середовищам виконання програм функціональними мовами кешувати результати функцій та викликати їх у порядку, що не визначається алгоритмом й розпаралелювати їх без будь-яких додаткових дій з боку програміста.\n",
    "\n",
    "Функціональне програмування зазвичай відіграє досить невелику роль у коді Python. Але інколи Ви будете зустрічати код, написаний цим стилем. Щонайбільше — деякі аспекти цієї парадигми можуть бути доволі ефективними — а отже, добре було б ознайомитися з основними підходами й поняттями цієї парадигми."
   ]
  },
  {
   "cell_type": "markdown",
   "metadata": {},
   "source": [
    "### Основні визначення та їх пояснення\n",
    "\n",
    "---\n",
    "\n",
    "**Чиста функція** — це функція, вихідне значення якої залежить лише від її вхідних значень, без будь-яких [\"побічних ефектів\"](https://uk.wikipedia.org/wiki/%D0%9F%D0%BE%D0%B1%D1%96%D1%87%D0%BD%D0%B8%D0%B9_%D0%B5%D1%84%D0%B5%D0%BA%D1%82_(%D0%BF%D1%80%D0%BE%D0%B3%D1%80%D0%B0%D0%BC%D1%83%D0%B2%D0%B0%D0%BD%D0%BD%D1%8F)) (згадайте приклад з функцією **print**).\n",
    "\n",
    "У функціональному програмуванні програма повністю складається з чистих функцій та їх оцінки.\n",
    "\n",
    "Переваги функціонального програмування:\n",
    "- високий рівень (опис бажаного результату замість опису кроків для його досягнення);\n",
    "- прозорість — оскільки поведінка чистої функції не має побічних ефектів, не залежить від стану і залежить лише від аргументів — це полегшує налагодження такого коду;\n",
    "- розпаралелювання — функції без побічних ефектів можуть легше розпаралелюватись.\n",
    "\n",
    "\n",
    "### Python і функціональне програмування\n",
    "\n",
    "Для підтримки функціональної парадигми програмування необхідно, щоб функція даної мови програмування мала дві можливості:\n",
    "\n",
    "- взяти іншу функцію як аргумент;\n",
    "- повернути іншу функцію як результат.\n",
    "\n",
    "У Python все це працює. Усі об’єкти в Python мають більш-менш однаковий статус, і функції не є винятком. Є навіть визначення — **об'єкти першого класу**. Це такі об'єкти, які:\n",
    "• можуть бути збережені у змінній чи структурі даних;\n",
    "• можуть бути передані у функцію як аргумент;\n",
    "• можуть бути повернуті із функції як результат;\n",
    "• можуть бути створені під час виконання програми;\n",
    "• незалежні від іменування.\n",
    "\n",
    "Все це стосується й функцій у Python. Функції у Python є об'єктами першого класу. Тому — Python підтримує парадигму функціонального програмування.\n"
   ]
  },
  {
   "cell_type": "markdown",
   "metadata": {},
   "source": [
    "### Lambda-функції\n",
    "\n",
    "---\n",
    "\n",
    "Звичайне оголошення функції Python є оператором — def. Однак, при створенні коду функціональним стилем часто буває зручною можливість оголосити анонімну функцію усередині виразу. У Python є така можливість: вона реалізується за допомогою лямбда-виразів.\n",
    "\n",
    "---\n",
    "\n",
    "**Зауваження:**\n",
    "Термін *лямбда* походить від [лямбда-числення](https://uk.wikipedia.org/wiki/%D0%9B%D1%8F%D0%BC%D0%B1%D0%B4%D0%B0-%D1%87%D0%B8%D1%81%D0%BB%D0%B5%D0%BD%D0%BD%D1%8F), формальної системи математичної логіки для вираження обчислень на основі абстракції та застосування функції.\n",
    "\n",
    "---\n"
   ]
  },
  {
   "cell_type": "markdown",
   "metadata": {},
   "source": [
    "#### Синтаксис **lambda** виразу такий:\n",
    "\n",
    "### lambda <parameter_list>: <expression>\n",
    "\n",
    "Приклад визначення:"
   ]
  },
  {
   "cell_type": "code",
   "execution_count": 235,
   "metadata": {},
   "outputs": [
    {
     "data": {
      "text/plain": "<function __main__.<lambda>(s)>"
     },
     "execution_count": 235,
     "metadata": {},
     "output_type": "execute_result"
    }
   ],
   "source": [
    "lambda s: s[::-1]"
   ]
  },
  {
   "cell_type": "markdown",
   "metadata": {},
   "source": [
    "Ми визначили лямбда-функцію, яка приймає аргумент послідовності s (рядок, список, кортеж — будь-яку, що допускає зрізи — slices) і \"перевертає\" його.\n"
   ]
  },
  {
   "cell_type": "code",
   "execution_count": 236,
   "metadata": {},
   "outputs": [
    {
     "data": {
      "text/plain": "True"
     },
     "execution_count": 236,
     "metadata": {},
     "output_type": "execute_result"
    }
   ],
   "source": [
    "callable(lambda s: s[::-1])"
   ]
  },
  {
   "cell_type": "markdown",
   "metadata": {},
   "source": [
    "Вбудована функція Python callable() повертає True, якщо переданий їй аргумент здається таким, що можна викликати, та False в іншому випадку. Отже, як звичайну функцію можна викликати, передаючи аргументи в дужках, так й створений нами об'єкт можна викликати так само, бо це і є функція.\n",
    "\n",
    "Приклад (зверніть увагу - ми взяли в дужки нашу лямбда-функцію):"
   ]
  },
  {
   "cell_type": "code",
   "execution_count": 237,
   "metadata": {},
   "outputs": [
    {
     "data": {
      "text/plain": "'кодяр йитсорп - Я'"
     },
     "execution_count": 237,
     "metadata": {},
     "output_type": "execute_result"
    }
   ],
   "source": [
    "(lambda s: s[::-1])(\"Я - простий рядок\")"
   ]
  },
  {
   "cell_type": "code",
   "execution_count": 238,
   "metadata": {},
   "outputs": [
    {
     "data": {
      "text/plain": "['three', 'two', 'one']"
     },
     "execution_count": 238,
     "metadata": {},
     "output_type": "execute_result"
    }
   ],
   "source": [
    "(lambda s: s[::-1])([\"one\", \"two\", \"three\"])"
   ]
  },
  {
   "cell_type": "markdown",
   "metadata": {},
   "source": [
    "Як звичайний об'єкт Python, створена нами lambda-функція може бути збережена в змінній за необхідністю:"
   ]
  },
  {
   "cell_type": "code",
   "execution_count": 239,
   "metadata": {},
   "outputs": [],
   "source": [
    "revers = lambda s: s[::-1]"
   ]
  },
  {
   "cell_type": "markdown",
   "metadata": {},
   "source": [
    "І пізніше викликана з використанням імені цієї змінної:"
   ]
  },
  {
   "cell_type": "code",
   "execution_count": 240,
   "metadata": {},
   "outputs": [
    {
     "data": {
      "text/plain": "'кодяр йитсорп - Я'"
     },
     "execution_count": 240,
     "metadata": {},
     "output_type": "execute_result"
    }
   ],
   "source": [
    "revers(\"Я - простий рядок\")"
   ]
  },
  {
   "cell_type": "markdown",
   "metadata": {},
   "source": [
    "Створена нами функція абсолютно ідентична створеній за звичною конструкцією:"
   ]
  },
  {
   "cell_type": "code",
   "execution_count": 241,
   "metadata": {},
   "outputs": [],
   "source": [
    "def revers(s):\n",
    "    return s[::-1]"
   ]
  },
  {
   "cell_type": "markdown",
   "metadata": {},
   "source": [
    "Як ми бачили раніше — абсолютно необов'язково призначати змінну нашому lambda-виразу перед його використанням. Можна просто взяти його в дужки та в наступних дужках надати необхідні аргументи. Щонайбільше, ми можемо передавати не один аргумент, а декілька. Наприклад:\n"
   ]
  },
  {
   "cell_type": "code",
   "execution_count": 242,
   "metadata": {},
   "outputs": [
    {
     "data": {
      "text/plain": "143.0"
     },
     "execution_count": 242,
     "metadata": {},
     "output_type": "execute_result"
    }
   ],
   "source": [
    "(lambda x1, x2, x3: (x1 + x2 + x3) / 3)(111, 87, 231)"
   ]
  },
  {
   "cell_type": "markdown",
   "metadata": {},
   "source": [
    "А також використовувати складніші схеми передачі аргументів, якщо в цьому є необхідність:"
   ]
  },
  {
   "cell_type": "code",
   "execution_count": 243,
   "metadata": {},
   "outputs": [
    {
     "data": {
      "text/plain": "221.28571428571428"
     },
     "execution_count": 243,
     "metadata": {},
     "output_type": "execute_result"
    }
   ],
   "source": [
    "(lambda *args: sum(args) / len(args))(111, 87, 231, 12, 345, 786, -23)"
   ]
  },
  {
   "cell_type": "markdown",
   "metadata": {},
   "source": [
    "Lambda-вираз може взагалі не мати аргументів. Наприклад, наведений нижче приклад є абсолютно законним з точки зору Python:"
   ]
  },
  {
   "cell_type": "code",
   "execution_count": 244,
   "metadata": {},
   "outputs": [
    {
     "data": {
      "text/plain": "71"
     },
     "execution_count": 244,
     "metadata": {},
     "output_type": "execute_result"
    }
   ],
   "source": [
    "strange_function = lambda: 71\n",
    "strange_function()"
   ]
  },
  {
   "cell_type": "markdown",
   "metadata": {},
   "source": [
    "Можливо наведена функція виглядає безглуздою, але вона абсолютно легітимна)"
   ]
  },
  {
   "cell_type": "markdown",
   "metadata": {},
   "source": [
    "#### Обмеження:\n",
    "\n",
    "- Зверніть увагу, що ви можете визначити лише досить рудиментарні функції за допомогою **lambda**. Повернене значення **lambda** виразу може бути лише одним виразом. lambda-вираз не може містити такі оператори, як присвоєння (**=**) або **return**, а також керуючі структури, такі як **for**, **while**, **if**, **else** або **def**."
   ]
  },
  {
   "cell_type": "markdown",
   "metadata": {},
   "source": [
    "Ви не можете повернути кілька значень, у якості кортежу:"
   ]
  },
  {
   "cell_type": "code",
   "execution_count": 245,
   "metadata": {},
   "outputs": [
    {
     "name": "stderr",
     "output_type": "stream",
     "text": [
      "<>:1: SyntaxWarning: 'tuple' object is not callable; perhaps you missed a comma?\n",
      "<>:1: SyntaxWarning: 'tuple' object is not callable; perhaps you missed a comma?\n",
      "C:\\Users\\Vladimir\\AppData\\Local\\Temp\\ipykernel_31404\\3359821660.py:1: SyntaxWarning: 'tuple' object is not callable; perhaps you missed a comma?\n",
      "  (lambda x: x, x ** 2, x ** 3)(5)\n"
     ]
    },
    {
     "ename": "NameError",
     "evalue": "name 'x' is not defined",
     "output_type": "error",
     "traceback": [
      "\u001B[1;31m---------------------------------------------------------------------------\u001B[0m",
      "\u001B[1;31mNameError\u001B[0m                                 Traceback (most recent call last)",
      "Cell \u001B[1;32mIn[245], line 1\u001B[0m\n\u001B[1;32m----> 1\u001B[0m (\u001B[38;5;28;01mlambda\u001B[39;00m x: x, \u001B[43mx\u001B[49m \u001B[38;5;241m*\u001B[39m\u001B[38;5;241m*\u001B[39m \u001B[38;5;241m2\u001B[39m, x \u001B[38;5;241m*\u001B[39m\u001B[38;5;241m*\u001B[39m \u001B[38;5;241m3\u001B[39m)(\u001B[38;5;241m5\u001B[39m)\n",
      "\u001B[1;31mNameError\u001B[0m: name 'x' is not defined"
     ]
    }
   ],
   "source": [
    "(lambda x: x, x ** 2, x ** 3)(5)"
   ]
  },
  {
   "cell_type": "markdown",
   "metadata": {},
   "source": [
    "Але ви можете повернути кортеж, список, словник (просто зробіть один об'єкт):"
   ]
  },
  {
   "cell_type": "code",
   "execution_count": null,
   "metadata": {},
   "outputs": [],
   "source": [
    "(lambda x: (x, x ** 2, x ** 3))(5)"
   ]
  },
  {
   "cell_type": "code",
   "execution_count": null,
   "metadata": {},
   "outputs": [],
   "source": [
    "(lambda x: [x, x ** 2, x ** 3])(5)"
   ]
  },
  {
   "cell_type": "code",
   "execution_count": null,
   "metadata": {},
   "outputs": [],
   "source": [
    "(lambda x: {1: x, 2: x ** 2, 3: x ** 3})(5)"
   ]
  },
  {
   "cell_type": "markdown",
   "metadata": {},
   "source": [
    "Вираз lambda має власний локальний простір імен, тому імена параметрів не конфліктують з ідентичними іменами в глобальному просторі імен. Вираз може отримувати доступ до lambda змінних у глобальному просторі імен, але не може їх змінювати."
   ]
  },
  {
   "cell_type": "markdown",
   "metadata": {},
   "source": [
    "І ще нюанс використання lambda-функцій: якщо вам необхідно додати lambda-вираз у відформатований рядок (f-рядок) — то явно вкладайте його в дужки.\n",
    "\n",
    "Не працює:"
   ]
  },
  {
   "cell_type": "code",
   "execution_count": null,
   "metadata": {},
   "outputs": [],
   "source": [
    "print(f\"Це не буде працювати: {lambda s: s[::-1]}\")"
   ]
  },
  {
   "cell_type": "markdown",
   "metadata": {},
   "source": [
    "Працює:"
   ]
  },
  {
   "cell_type": "code",
   "execution_count": null,
   "metadata": {},
   "outputs": [],
   "source": [
    "print(f\"Це буде працювати: {(lambda s: s[::-1])}\")\n",
    "print(f\"Це буде працювати: {(lambda s: s[::-1])('Я звичайний рядок')}\")"
   ]
  },
  {
   "cell_type": "markdown",
   "metadata": {},
   "source": [
    "---\n",
    "\n",
    "Далі ми переходимо до вивчення вбудованих функцій Python, які відповідають парадигмі функціонального програмування. Ми будемо використовувати, також, lambda-функції у прикладах, для закріплення матеріалу. Але пам'ятайте, що ви можете завжди замінювати їх функціями визначеними у звичайний спосіб.\n",
    "\n",
    "### Функція map()\n",
    "\n",
    "#### синтаксис:\n",
    "\n",
    "### map(<func>, <iterable>)\n",
    "\n",
    "де  <func>      — будь-яка функція (\"чиста функція\")\n",
    "    <iterable>  — будь-який ітерований об'єкт\n",
    "\n",
    "Припустимо, у нас є список рядків:"
   ]
  },
  {
   "cell_type": "code",
   "execution_count": null,
   "metadata": {},
   "outputs": [],
   "source": [
    "str_list = [\"Я - перший рядок\", \"Я - другий рядок\", \"Я - третій рядок\", \"Я - четвертий рядок\"]"
   ]
  },
  {
   "cell_type": "markdown",
   "metadata": {},
   "source": [
    "За допомогою функції map() ми можемо застосувати нашу функцію реверсу до кожного елемента списку:"
   ]
  },
  {
   "cell_type": "code",
   "execution_count": null,
   "metadata": {},
   "outputs": [],
   "source": [
    "map(lambda s: s[::-1], str_list)"
   ]
  },
  {
   "cell_type": "markdown",
   "metadata": {},
   "source": [
    "Зверніть увагу, що map() повертає об'єкт типу map, що є ітератором. Тому, якщо ви хочете побачити всі результати, ви повинні проітеруватися (за допомогою явного циклу, або просто використавши list())"
   ]
  },
  {
   "cell_type": "code",
   "execution_count": null,
   "metadata": {},
   "outputs": [],
   "source": [
    "for element in map(lambda s: s[::-1], str_list):\n",
    "    print(element)"
   ]
  },
  {
   "cell_type": "code",
   "execution_count": null,
   "metadata": {},
   "outputs": [],
   "source": [
    "list(map(lambda s: s[::-1], str_list))"
   ]
  },
  {
   "cell_type": "markdown",
   "metadata": {},
   "source": [
    "В таких виразах зручно використовувати lambda-функції. Але якщо ваша функція досить складна — використовуйте звичайну функцію, визначивши її заздалегідь."
   ]
  },
  {
   "cell_type": "markdown",
   "metadata": {},
   "source": [
    "Можливий виклик map() з декількома ітерабельними об'єктами та використанням функції, яка очікує не один параметр.\n",
    "\n",
    "Синтаксис:\n",
    "\n",
    "### map(<func>, <iterable_1>, <iterable_2>, ... , <iterable_n>)\n",
    "    — кількість аргументів, які приймає <func> — повинно дорівнювати кількості переданих ітерабельних об'єктів\n",
    "    — кількість елементів у ітерабельних об'єктах повинна бути однаковою.\n",
    "\n",
    "Приклад:"
   ]
  },
  {
   "cell_type": "code",
   "execution_count": null,
   "metadata": {},
   "outputs": [],
   "source": [
    "list(\n",
    "    map(\n",
    "        lambda x1, x2, x3: x1 + x2 + x3,\n",
    "        [1, 2, 3],\n",
    "        [10, 20, 30],\n",
    "        [100, 200, 300]\n",
    "    )\n",
    ")"
   ]
  },
  {
   "cell_type": "markdown",
   "metadata": {},
   "source": [
    "### Функція filter()\n",
    "\n",
    "filter() дозволяє обирати або фільтрувати елементи з iterable на основі оцінки даної функції.\n",
    "\n",
    "Синтаксис:\n",
    "\n",
    "### filter(<func>, <iterable>)\n",
    "\n",
    "де  <func>      — будь-яка функція (\"чиста функція\") — результат, що повертається якої може бути оцінений у \"булевському\" контексті\n",
    "    <iterable>  — будь-який об'єкт, що ітерується\n",
    "\n",
    "filter(<func>, <iterable>) застосовує функцію <func> до кожного елементу <iterable> та повертає ітератор, який дає всі елементи, для яких <func> є істиною. І навпаки, він відфільтровує всі елементи, для яких <func> є хибною.\n",
    "\n",
    "Приклад (відбираємо числа зі списку, які більші за 100):"
   ]
  },
  {
   "cell_type": "code",
   "execution_count": null,
   "metadata": {},
   "outputs": [],
   "source": [
    "list(filter(lambda x: x > 100, [1, 231, 0, 436, 102, -321, 10, 181, 15, 10003]))"
   ]
  },
  {
   "cell_type": "markdown",
   "metadata": {},
   "source": [
    "### reduce()\n",
    "\n",
    "Ця функція не є вбудованою у Python, хоча колись була. Про це є цікава історія та позиція Гвідо ван Россума, яка докладно описана ним у статті [тут](https://www.artima.com/weblogs/viewpost.jsp?thread=98196). Завдяки цій позиції тепер, перед використанням, треба імпортувати цю функцію з вбудованного пакету functools.\n",
    "\n",
    "Синтаксис:\n",
    "\n",
    "### reduce(<func>, <iterable>)\n",
    "\n",
    "У такому випадку (є й інший приклад, який ми розглянемо пізніше) — reduce(<func>, <iterable>) використовує <func>, яка має бути функцією, яка приймає рівно два аргументи, щоб поступово поєднувати елементи в <iterable>. Для початку reduce() викликає <func> з першими двома елементами <iterable>. Цей результат потім використовується у наступній ітерації в якості одного з аргументів <func> з третім елементом <iterable> об'єкта, потім цей результат з четвертим і так далі, доки список не буде вичерпано. Потім reduce() повертає остаточний результат.\n",
    "\n",
    "Приклад:"
   ]
  },
  {
   "cell_type": "code",
   "execution_count": null,
   "metadata": {},
   "outputs": [],
   "source": [
    "from functools import reduce\n",
    "\n",
    "reduce(lambda x, y: x + y, [1, 2, 3, 4, 5])"
   ]
  },
  {
   "cell_type": "markdown",
   "metadata": {},
   "source": [
    "![](//editor.analyticsvidhya.com/uploads/88656reduce.jpeg \"графічне зображення роботи нашого прикладу\")\n",
    "\n",
    "Це досить обхідний спосіб підсумовування чисел у списку! Хоча це добре працює та добре демонструє використання reduce(), є простіший спосіб. Вбудована функція Python sum() повертає суму числових значень у ітерації:"
   ]
  },
  {
   "cell_type": "code",
   "execution_count": null,
   "metadata": {},
   "outputs": [],
   "source": [
    "sum([1, 2, 3, 4, 5])"
   ]
  },
  {
   "cell_type": "markdown",
   "metadata": {},
   "source": [
    "#### Виклик reduce() з початковим значенням\n",
    "\n",
    "Є інший приклад використання reduce() — який дозволяє на першому кроці використати не два перших елементи <iterable> об'єкта, а тільки перший. А другим аргументом на першому кроці для <func> буде виступати окремо задане значення.\n",
    "\n",
    "Синтаксис:\n",
    "\n",
    "### reduce(<func>, <iterable>, <init>)\n",
    "\n",
    "За наявності <init> вказує початкове значення для комбінації."
   ]
  },
  {
   "cell_type": "code",
   "execution_count": null,
   "metadata": {},
   "outputs": [],
   "source": [
    "reduce(lambda x1, x2: x1 + x2, [1, 2, 3, 4, 5], 100)"
   ]
  },
  {
   "cell_type": "markdown",
   "metadata": {},
   "source": [
    "Хоча здається, що reduce() має досить вузьке використання — це не так. Насправді будь-яка операція над послідовністю об'єктів може бути виражена як скорочення і бути реалізована через reduce().\n",
    "\n",
    "Наприклад, можна реалізувати map() використовуючи reduce():"
   ]
  },
  {
   "cell_type": "code",
   "execution_count": null,
   "metadata": {},
   "outputs": [],
   "source": [
    "numbers = [1, 2, 3, 4, 5]\n",
    "\n",
    "list(map(str, numbers)) # перетворюємо елементи послідовності у рядкові представлення"
   ]
  },
  {
   "cell_type": "code",
   "execution_count": null,
   "metadata": {},
   "outputs": [],
   "source": [
    "def custom_map(func, iterable):\n",
    "    from functools import reduce\n",
    "    return reduce(\n",
    "        lambda items, value: items + [func(value)],\n",
    "        iterable,\n",
    "        []\n",
    "    )\n",
    "\n",
    "\n",
    "list(custom_map(str, numbers))"
   ]
  },
  {
   "cell_type": "markdown",
   "metadata": {},
   "source": [
    "Також ви маєте можливість реалізувати filter() за допомогою reduce():"
   ]
  },
  {
   "cell_type": "code",
   "execution_count": null,
   "metadata": {},
   "outputs": [],
   "source": [
    "numbers = list(range(10))\n",
    "\n",
    "numbers"
   ]
  },
  {
   "cell_type": "code",
   "execution_count": null,
   "metadata": {},
   "outputs": [],
   "source": [
    "is_even = lambda x: x % 2 == 0"
   ]
  },
  {
   "cell_type": "code",
   "execution_count": null,
   "metadata": {},
   "outputs": [],
   "source": [
    "list(filter(is_even, numbers))"
   ]
  },
  {
   "cell_type": "markdown",
   "metadata": {},
   "source": [
    "Тепер реалізуємо все це за допомогою reduce():"
   ]
  },
  {
   "cell_type": "code",
   "execution_count": null,
   "metadata": {},
   "outputs": [],
   "source": [
    "def custom_filter(func, iterable):\n",
    "    from functools import reduce\n",
    "\n",
    "    return reduce(\n",
    "        lambda items, value: items + [value] if func(value) else items,\n",
    "        iterable,\n",
    "        []\n",
    "    )\n",
    "\n",
    "list(custom_filter(is_even, numbers))"
   ]
  },
  {
   "cell_type": "markdown",
   "metadata": {},
   "source": [
    "Пропоную вам самостійно розібрати роботу наведених функцій."
   ]
  },
  {
   "cell_type": "markdown",
   "metadata": {},
   "source": [
    "## Вступ до декораторів\n",
    "\n",
    "Ми вивчаємо декоратори в цій темі саме тому, що декоратори — це звичайні функції, які приймають у якості аргументів інші функції та повертають функції як результат своєї роботи, розширюючи поведінку прийнятих у якості аргументів функцій.\n",
    "\n",
    "Декоратор забезпечує простий синтаксис для виклику функцій [вищого порядку](https://uk.wikipedia.org/wiki/%D0%A4%D1%83%D0%BD%D0%BA%D1%86%D1%96%D1%8F_%D0%B2%D0%B8%D1%89%D0%BE%D0%B3%D0%BE_%D0%BF%D0%BE%D1%80%D1%8F%D0%B4%D0%BA%D1%83#:~:text=%D0%A4%D1%83%D0%BD%D0%BA%D1%86%D1%96%D1%8F%20%D0%B2%D0%B8%D1%89%D0%BE%D0%B3%D0%BE%20%D0%BF%D0%BE%D1%80%D1%8F%D0%B4%D0%BA%D1%83%20%E2%80%94%20%D1%84%D1%83%D0%BD%D0%BA%D1%86%D1%96%D1%8F%2C%20%D1%89%D0%BE,%D0%B9%20%D1%96%D0%BD%D1%88%D1%96%20%D0%BE%D0%B1'%D1%94%D0%BA%D1%82%D0%B8%20%D0%B4%D0%B0%D0%BD%D0%B8%D1%85.).\n",
    "\n",
    "---\n",
    "\n"
   ]
  },
  {
   "cell_type": "markdown",
   "metadata": {},
   "source": [
    "Перед тим, як перейти до декораторів, згадаємо декілька моментів, які допоможуть нам швидше і якісніше зрозуміти декоратори:\n",
    "- **функція повертає значення на основі заданих аргументів**:"
   ]
  },
  {
   "cell_type": "code",
   "execution_count": null,
   "metadata": {},
   "outputs": [],
   "source": [
    "def add_two(number):\n",
    "    return number + 2\n",
    "\n",
    "\n",
    "add_two(10)"
   ]
  },
  {
   "cell_type": "markdown",
   "metadata": {},
   "source": [
    "Загалом, функції у Python також можуть мати побічні ефекти, а не просто перетворювати введені дані на виході — згадайте приклад з функцією **print**, наведений в першій частині матеріалу.\n",
    "\n",
    "Однак, щоб зрозуміти декоратори, необхідно міркувати про функції, як про зв'язок вихідних параметрів з вхідними.\n",
    "\n",
    "- **функція у Python — об'єкт першого класу**\n",
    "\n",
    "Тобто функція може бути аргументом іншої функції та результатом роботи іншої функції."
   ]
  },
  {
   "cell_type": "code",
   "execution_count": null,
   "metadata": {},
   "outputs": [],
   "source": [
    "def say_hello(name):\n",
    "    return f\"Hello {name}!\"\n",
    "\n",
    "\n",
    "def greet_stepan(greeter_func):\n",
    "    return greeter_func(\"Stepan\")"
   ]
  },
  {
   "cell_type": "markdown",
   "metadata": {},
   "source": [
    "Де say_hello() — звична нам функція, яка очікує ім'я у вигляді рядка. Однак greet_stepan() — функція яка очікує функцію як аргумент. Ми можемо, наприклад, передати їй say_hello():"
   ]
  },
  {
   "cell_type": "code",
   "execution_count": null,
   "metadata": {},
   "outputs": [],
   "source": [
    "greet_stepan(say_hello)"
   ]
  },
  {
   "cell_type": "markdown",
   "metadata": {},
   "source": [
    "- **можна визначати функції у середині інших функцій**"
   ]
  },
  {
   "cell_type": "code",
   "execution_count": null,
   "metadata": {},
   "outputs": [],
   "source": [
    "def parent():\n",
    "    print(\"Printing from the parent() function\")\n",
    "\n",
    "    def first_child():\n",
    "        print(\"Printing from the first_child() function\")\n",
    "\n",
    "    def second_child():\n",
    "        print(\"Printing from the second_child() function\")\n",
    "\n",
    "    second_child()\n",
    "    first_child()"
   ]
  },
  {
   "cell_type": "markdown",
   "metadata": {},
   "source": [
    "Що відбувається, коли ви викликаєте функцію parent()? Поміркуйте про це хвилину. Результат буде наступним:"
   ]
  },
  {
   "cell_type": "code",
   "execution_count": null,
   "metadata": {},
   "outputs": [],
   "source": [
    "parent()"
   ]
  },
  {
   "cell_type": "markdown",
   "metadata": {},
   "source": [
    "Зауважте, що порядок визначення внутрішніх функцій не має значення. Як з будь-якими іншими функціями, друк відбувається лише тоді, коли виконуються внутрішні функції.\n",
    "\n",
    "Крім того, внутрішні функції не визначені, доки не буде викликана батьківська функція. Вони локально обмежені parent(): вони існують лише всередині parent() функції як локальні змінні.\n",
    "\n",
    "- **Python також дозволяє використовувати функції як значення, що повертаються**\n",
    "\n",
    "Наприклад:"
   ]
  },
  {
   "cell_type": "code",
   "execution_count": null,
   "metadata": {},
   "outputs": [],
   "source": [
    "def parent(num):\n",
    "    def first_child():\n",
    "        return \"Привіт, я Степан!\"\n",
    "\n",
    "    def second_child():\n",
    "        return \"Я вивчаю Python.\"\n",
    "\n",
    "    if num == 1:\n",
    "        return first_child\n",
    "    else:\n",
    "        return second_child"
   ]
  },
  {
   "cell_type": "markdown",
   "metadata": {},
   "source": [
    "Зверніть увагу, що ви повертаєте first_child без дужок. Пам'ятайте, що це означає, що ви повертаєте посилання на функцію first_child. На відміну від first_child, first_child() з круглими дужками означає результат обчислення функції. Це можна побачити на наступному прикладі:"
   ]
  },
  {
   "cell_type": "code",
   "execution_count": null,
   "metadata": {},
   "outputs": [],
   "source": [
    "first = parent(1)\n",
    "second = parent(2)\n",
    "first"
   ]
  },
  {
   "cell_type": "code",
   "execution_count": null,
   "metadata": {},
   "outputs": [],
   "source": [
    "second"
   ]
  },
  {
   "cell_type": "markdown",
   "metadata": {},
   "source": [
    "Повертаються функції, а не результат їх роботи:"
   ]
  },
  {
   "cell_type": "code",
   "execution_count": null,
   "metadata": {},
   "outputs": [],
   "source": [
    "first()"
   ]
  },
  {
   "cell_type": "code",
   "execution_count": null,
   "metadata": {},
   "outputs": [],
   "source": [
    "second()"
   ]
  },
  {
   "cell_type": "markdown",
   "metadata": {},
   "source": [
    "Таким чином, ми бачимо результат роботи функцій.\n",
    "\n",
    "Тепер ми з вами готові перейти до вивчення декораторів."
   ]
  },
  {
   "cell_type": "markdown",
   "metadata": {},
   "source": [
    "### Прості декоратори\n",
    "\n",
    "Почнемо з прикладу."
   ]
  },
  {
   "cell_type": "code",
   "execution_count": null,
   "metadata": {},
   "outputs": [],
   "source": [
    "def simply_decorator(func):\n",
    "    def wrapper():\n",
    "        print(\"Ми щось робимо до виклику функції.\")\n",
    "        func()\n",
    "        print(\"Ми щось робимо після виклику функції.\")\n",
    "    return wrapper\n",
    "\n",
    "\n",
    "def alarm():\n",
    "    print(\"Я волаю дуже гучно!!!\")\n",
    "\n",
    "\n",
    "alarm = simply_decorator(alarm)\n",
    "\n",
    "# зробимо виклик функції alarm:\n",
    "alarm()"
   ]
  },
  {
   "cell_type": "markdown",
   "metadata": {},
   "source": [
    "Фактично, ми змінили поведінку функції alarm.\n",
    "\n",
    "Розберемо яким чином це відбулося. Ми застосували все, про що говорили досі.\n",
    "Рядок 16 в попередньому блоці коду — це і є декорування функції alarm. По суті, alarm тепер вказує на wrapper — внутрішню функцію, яка визначена у середині функції simply_decorator. Але, серед іншого, wrapper має посилання на оригінал функції alarm та викликає її між двома викликами print.\n",
    "\n",
    "Так працюють всі декоратори. Простіше кажучи — **декоратори огортають функцію, змінюючи її поведінку**.\n",
    "\n",
    "Давайте трохи перепишемо цей декоратор, щоб у його роботі з'явився сенс."
   ]
  },
  {
   "cell_type": "code",
   "execution_count": null,
   "metadata": {},
   "outputs": [],
   "source": [
    "from datetime import datetime\n",
    "\n",
    "def not_during_the_night(func):\n",
    "    def wrapper():\n",
    "        if 7 <= datetime.now().hour < 22:\n",
    "            func()\n",
    "        else:\n",
    "            print(\"Тсссс! Мовчи)\")\n",
    "    return wrapper\n",
    "\n",
    "\n",
    "def alarm():\n",
    "    print(\"Я волаю дуже гучно!!!\")\n",
    "\n",
    "\n",
    "alarm = not_during_the_night(alarm)"
   ]
  },
  {
   "cell_type": "markdown",
   "metadata": {},
   "source": [
    "Поясніть самостійно як буде працювати декорована функція alarm в цьому випадку?\n",
    "\n",
    "#### \"Синтаксичний цукор!\"\n",
    "\n",
    "Синтаксичний цукор (англ. syntactic sugar) — узагальнена назва, яка позначає доповнення синтаксису мови програмування, які не додають нових можливостей, а роблять використання мови програмування зручнішим для людини. Докладніше - [тут](https://uk.wikipedia.org/wiki/%D0%A1%D0%B8%D0%BD%D1%82%D0%B0%D0%BA%D1%81%D0%B8%D1%87%D0%BD%D0%B8%D0%B9_%D1%86%D1%83%D0%BA%D0%BE%D1%80)\n",
    "\n",
    "Це саме про декоратори.\n",
    "\n",
    "Натомість Python дозволяє використовувати декоратори простіше за допомогою @ символу, який іноді називають «пироговим» синтаксисом. Наступний приклад робить те саме, що й перший приклад декоратору:"
   ]
  },
  {
   "cell_type": "code",
   "execution_count": null,
   "metadata": {},
   "outputs": [],
   "source": [
    "def simply_decorator(func):\n",
    "    def wrapper():\n",
    "        print(\"Ми щось робимо до виклику функції.\")\n",
    "        func()\n",
    "        print(\"Ми щось робимо після виклику функції.\")\n",
    "    return wrapper\n",
    "\n",
    "\n",
    "@simply_decorator\n",
    "def alarm():\n",
    "    print(\"Я волаю дуже гучно!!!\")"
   ]
  },
  {
   "cell_type": "markdown",
   "metadata": {},
   "source": [
    "#### Як декорувати функцію, ка приймає аргументи.\n",
    "\n",
    "Ми з вами вивчали техніку, яка дозволяє передавати у функцію будь-яку кількість позиційних та ключових аргументів. Це спрацює й тут.\n",
    "\n",
    "Визначимо функцію, яка імітує будильник, але персоналізований — приймає ім'я людини, яку треба розбудити й друкує персоналізоване повідомлення для цієї людини.\n",
    "\n",
    "І декоратор, який подвоює виконання цієї функції. Цей декоратор повинен приймати аргументи та передавати їх у декоровану функцію.\n",
    "\n",
    "Декоратор:"
   ]
  },
  {
   "cell_type": "code",
   "execution_count": null,
   "metadata": {},
   "outputs": [],
   "source": [
    "def do_twice(func):\n",
    "    def wrapper(*args, **kwargs):\n",
    "        func(*args, **kwargs)\n",
    "        func(*args, **kwargs)\n",
    "    return wrapper"
   ]
  },
  {
   "cell_type": "markdown",
   "metadata": {},
   "source": [
    "Створюємо функцію та одразу її декоруємо:"
   ]
  },
  {
   "cell_type": "code",
   "execution_count": null,
   "metadata": {},
   "outputs": [],
   "source": [
    "@do_twice\n",
    "def personal_alarm(name):\n",
    "    print(f\"{name}, прокидайся! (це було уже гучно)\")"
   ]
  },
  {
   "cell_type": "markdown",
   "metadata": {},
   "source": [
    "Перевіряємо роботу:"
   ]
  },
  {
   "cell_type": "code",
   "execution_count": null,
   "metadata": {},
   "outputs": [],
   "source": [
    "personal_alarm(\"Stepane\")"
   ]
  },
  {
   "cell_type": "markdown",
   "metadata": {},
   "source": [
    "#### Повернення значень з декорованих функцій\n",
    "\n",
    "Щоб повернути значення, вам потрібно переконатися, що функція-обгортка повертає значення, яке повертає декорована функція. Змініть декоратор:"
   ]
  },
  {
   "cell_type": "code",
   "execution_count": null,
   "metadata": {},
   "outputs": [],
   "source": [
    "def do_twice(func):\n",
    "    def wrapper(*args, **kwargs):\n",
    "        func(*args, **kwargs)\n",
    "        return func(*args, **kwargs)\n",
    "    return wrapper"
   ]
  },
  {
   "cell_type": "markdown",
   "metadata": {},
   "source": [
    "Створимо функцію, яка щось повертає і задекоруємо її нашим декоратором:"
   ]
  },
  {
   "cell_type": "code",
   "execution_count": null,
   "metadata": {},
   "outputs": [],
   "source": [
    "@do_twice\n",
    "def personal_alarm(name):\n",
    "    print(\"Пиу! Пиу! (дуже гучно)\")\n",
    "    return f\"{name}, прокидайся! (це було дуже гучно)\""
   ]
  },
  {
   "cell_type": "code",
   "execution_count": null,
   "metadata": {},
   "outputs": [],
   "source": [
    "personal_alarm(\"Petro\")"
   ]
  },
  {
   "cell_type": "code",
   "execution_count": null,
   "metadata": {},
   "outputs": [],
   "source": [
    "#### Інтроспеція та ім'я функції\n",
    "\n",
    "Великою зручністю при роботі з Python, особливо в інтерактивній оболонці, є його потужна здатність інтроспекції. Інтроспеція — це здатність об'єкту знати про свої власні атрибути під час виконання. Наприклад, функція знає власну назву та документацію (вони записані у певних атрибутах самої функції):"
   ]
  },
  {
   "cell_type": "code",
   "execution_count": null,
   "metadata": {},
   "outputs": [],
   "source": [
    "print.__name__"
   ]
  },
  {
   "cell_type": "code",
   "execution_count": null,
   "metadata": {},
   "outputs": [],
   "source": [
    "print.__doc__"
   ]
  },
  {
   "cell_type": "markdown",
   "metadata": {},
   "source": [
    "Це працює й для функцій написаних вами. Але після декорування функції (наприклад, в нашому останньому прикладі — функція personal_alarm була задекорована за допомогою do_twice, яка \"обгорнула\" нашу personal_alarm у свою внутрішню функцію wrapper):"
   ]
  },
  {
   "cell_type": "code",
   "execution_count": null,
   "metadata": {},
   "outputs": [],
   "source": [
    "personal_alarm.__name__"
   ]
  },
  {
   "cell_type": "markdown",
   "metadata": {},
   "source": [
    "Це не зручно, бо ми знаємо функцію personal_alarm і працюємо з цією назвою. Щоб уникнути цієї незручності необхідно при декоруванні зберегти інформацію про оригінальну функцію та записати її у відповідні атрибути декорованої функції. Це робить декоратор wraps з вбудованного пакету functools."
   ]
  },
  {
   "cell_type": "code",
   "execution_count": null,
   "metadata": {},
   "outputs": [],
   "source": [
    "import functools\n",
    "\n",
    "\n",
    "def do_twice(func):\n",
    "    @functools.wraps(func)\n",
    "    def wrapper(*args, **kwargs):\n",
    "        func(*args, **kwargs)\n",
    "        return func(*args, **kwargs)\n",
    "    return wrapper\n",
    "\n",
    "\n",
    "@do_twice\n",
    "def personal_alarm(name):\n",
    "    print(\"Пиу! Пиу! (дуже гучно)\")\n",
    "    return f\"{name}, прокидайся! (це було дуже гучно)\""
   ]
  },
  {
   "cell_type": "code",
   "execution_count": null,
   "metadata": {},
   "outputs": [],
   "source": [
    "personal_alarm.__name__"
   ]
  },
  {
   "cell_type": "markdown",
   "metadata": {},
   "source": [
    "#### Більш реальний приклад\n",
    "\n",
    "Загальний шаблон для створення декораторів:"
   ]
  },
  {
   "cell_type": "code",
   "execution_count": null,
   "metadata": {},
   "outputs": [],
   "source": [
    "import functools\n",
    "\n",
    "\n",
    "def decorator(func):\n",
    "    @functools.wraps(func)\n",
    "    def wrapper(*args, **kwargs):\n",
    "        # Робимо щось до\n",
    "        value = func(*args, **kwargs)\n",
    "        # Робимо щось після\n",
    "        return value\n",
    "    return wrapper"
   ]
  },
  {
   "cell_type": "markdown",
   "metadata": {},
   "source": [
    "Створимо декоратор, який можна використовувати для налагодження інших функцій. Його завдання — при кожному викликові функції, яка огорнута цим декоратором, виводити у консоль назву функції, яка викликається, всі її аргументи й результат виконання. Повертати декоратор повинен результат роботи функції.\n",
    "\n",
    "Код:"
   ]
  },
  {
   "cell_type": "code",
   "execution_count": null,
   "metadata": {},
   "outputs": [],
   "source": [
    "import functools\n",
    "\n",
    "def debug(func):\n",
    "    \"\"\"Друкує аргументи функції та результат її виконання. Повертає результат роботи функції.\"\"\"\n",
    "    @functools.wraps(func)\n",
    "    def wrapper(*args, **kwargs):\n",
    "        args_repr = [repr(a) for a in args]\n",
    "        kwargs_repr = [f\"{k}={v!r}\" for k, v in kwargs.items()]\n",
    "        signature = \", \".join(args_repr + kwargs_repr)\n",
    "        print(f\"Calling {func.__name__}({signature})\")\n",
    "        value = func(*args, **kwargs)\n",
    "        print(f\"{func.__name__!r} returned {value!r}\")\n",
    "        return value\n",
    "    return wrapper"
   ]
  },
  {
   "cell_type": "markdown",
   "metadata": {},
   "source": [
    "Приклад роботи декорованої функції:"
   ]
  },
  {
   "cell_type": "code",
   "execution_count": null,
   "metadata": {},
   "outputs": [],
   "source": [
    "@debug\n",
    "def make_greeting(name, age=None):\n",
    "    if age is None:\n",
    "        return f\"Привіт, {name}!\"\n",
    "    else:\n",
    "        return f\"Радий бачити тебе, {name}! {age} — це не мало, ти вже дорослішаєш!\"\n",
    "\n",
    "\n",
    "make_greeting(\"Сергій\")"
   ]
  },
  {
   "cell_type": "code",
   "execution_count": null,
   "metadata": {},
   "outputs": [],
   "source": [
    "make_greeting(\"Сергій\", 45)"
   ]
  },
  {
   "cell_type": "markdown",
   "metadata": {},
   "source": [
    "#### Кешування результатів роботи функції\n",
    "\n",
    "Декоратори можуть надати хороший механізм для кешування та запам'ятовування. Як приклад, розглянемо рекурсивне визначення послідовності Фібоначчі:"
   ]
  },
  {
   "cell_type": "code",
   "execution_count": null,
   "metadata": {},
   "outputs": [],
   "source": [
    "def fibonacci(num):\n",
    "    if num < 2:\n",
    "        return num\n",
    "    return fibonacci(num - 1) + fibonacci(num - 2)"
   ]
  },
  {
   "cell_type": "markdown",
   "metadata": {},
   "source": [
    "Ця функція буде працювати та повертати результати, але дуже повільно. Вона має вкрай низьку продуктивність. Це обумовлено тим, що для обчислення, наприклад, десятого числа Фібоначчі, вам справді потрібно обчислити лише попередні числа Фібоначчі, але ця реалізація чомусь вимагає колосальних 177 обчислень. Швидко стає гірше: fibonacci(20) — потрібно 21891, для 30-го майже 2,7 мільйона обчислень. Це пояснюється тим, що код постійно перераховує вже відомі числа Фібоначчі. Якщо кешувати вже обчислені значення — то можна суттєво збільшити продуктивність."
   ]
  },
  {
   "cell_type": "code",
   "execution_count": null,
   "metadata": {},
   "outputs": [],
   "source": [
    "import functools\n",
    "\n",
    "\n",
    "def cache(func):\n",
    "    \"\"\"Keep a cache of previous function calls\"\"\"\n",
    "    @functools.wraps(func)\n",
    "    def wrapper(*args, **kwargs):\n",
    "        cache_key = args + tuple(kwargs.items())\n",
    "        if cache_key not in wrapper.cache:\n",
    "            wrapper.cache[cache_key] = func(*args, **kwargs)\n",
    "        return wrapper.cache[cache_key]\n",
    "    wrapper.cache = dict()\n",
    "    return wrapper\n",
    "\n",
    "\n",
    "@cache\n",
    "def fibonacci(num):\n",
    "    if num < 2:\n",
    "        return num\n",
    "    return fibonacci(num - 1) + fibonacci(num - 2)"
   ]
  },
  {
   "cell_type": "code",
   "execution_count": null,
   "metadata": {},
   "outputs": [],
   "source": [
    "fibonacci(15)"
   ]
  },
  {
   "cell_type": "markdown",
   "metadata": {},
   "source": [
    "У стандартній бібліотеці functools є декоратор для створення кешу з більшими можливостями (LRU), [доступний як @functools.lru_cache.](https://docs.python.org/3/library/functools.html)\n",
    "\n",
    "Цей декоратор має більше функцій, ніж той, який ви бачили вище. Ви повинні використовувати @functools.lru_cache замість написання власного декоратора кешу:"
   ]
  },
  {
   "cell_type": "code",
   "execution_count": null,
   "metadata": {},
   "outputs": [],
   "source": [
    "import functools\n",
    "\n",
    "\n",
    "@functools.lru_cache(maxsize=10)\n",
    "def fibonacci(num):\n",
    "    print(f\"Calculating fibonacci({num})\")\n",
    "    if num < 2:\n",
    "        return num\n",
    "    return fibonacci(num - 1) + fibonacci(num - 2)"
   ]
  },
  {
   "cell_type": "markdown",
   "metadata": {},
   "source": [
    "Даний декоратор кешує результат у пам'яті. Він використовується як декоратор функції, виклики якої потрібно зберегти у пам'яті аж до значення параметру maxsize (за замовчуванням — 128. Рекомендовано використовувати значення даного параметру в якості ступеню двійки: 2, 4, 8, 16, 32, 64, 128). Декоратор lru_cache підходить для рекурсивних або постійно обчислювальних функцій.\n",
    "Тема декораторів надто широка, щоб її охопити в одному занятті. Рекомендована до ознайомлення література:\n",
    "- основні правила й принципи використання декораторів у Python [PEP318](https://peps.python.org/pep-0318/);\n",
    "- [python wiki - декоратори](https://wiki.python.org/moin/PythonDecorators);\n",
    "- [бібліотека декораторів Python](https://wiki.python.org/moin/PythonDecoratorLibrary)."
   ]
  }
 ],
 "metadata": {
  "kernelspec": {
   "display_name": "Python 3 (ipykernel)",
   "language": "python",
   "name": "python3"
  },
  "language_info": {
   "codemirror_mode": {
    "name": "ipython",
    "version": 3
   },
   "file_extension": ".py",
   "mimetype": "text/x-python",
   "name": "python",
   "nbconvert_exporter": "python",
   "pygments_lexer": "ipython3",
   "version": "3.11.0"
  },
  "vscode": {
   "interpreter": {
    "hash": "36cf16204b8548560b1c020c4e8fb5b57f0e4c58016f52f2d4be01e192833930"
   }
  }
 },
 "nbformat": 4,
 "nbformat_minor": 1
}
