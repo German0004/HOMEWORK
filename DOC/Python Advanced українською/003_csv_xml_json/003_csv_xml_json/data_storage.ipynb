{
 "cells": [
  {
   "cell_type": "markdown",
   "metadata": {},
   "source": [
    "## Тема 3:  Сховища даних у Python\n",
    "\n",
    "#### Перед початком роботи з кодом видаліть файли в теці data — вони будуть створюватися при виконанні коду під час вивчення матеріалу.\n",
    "\n",
    "#### Клонуйте код до себе у репозиторій, модифікуйте код та експериментуйте — це дасть краще розуміння.\n"
   ]
  },
  {
   "cell_type": "markdown",
   "metadata": {},
   "source": []
  },
  {
   "cell_type": "markdown",
   "metadata": {},
   "source": [
    "Для створення фейкових даних у достатній кількості будемо використовувати модуль Faker. [documentation](https://faker.readthedocs.io/en/master/)\n",
    "\n",
    "Модуль зручний для генерації різних фейкових персональних даних, у тому числі з урахуванням національних особливостей\n",
    "ВАЖЛИВО! При використанні національних налаштувань ([localixed providers - documentation](https://faker.readthedocs.io/en/master/locales.html)) перевіряйте формат того, що отримуєте (наприклад, порядок дотримання імен та прізвищ, порядок вказівки різних частин адреси у повній адресі тощо).\n",
    "\n",
    "Приклад отримання необхідних для нашої роботи сьогодні даних — наведено нижче."
   ]
  },
  {
   "cell_type": "markdown",
   "metadata": {},
   "source": [
    "![fake data](./media/fake_data.png)"
   ]
  },
  {
   "cell_type": "code",
   "metadata": {
    "jupyter": {
     "is_executing": true
    }
   },
   "source": [
    "from faker import Faker\n",
    "\n",
    "fake = Faker(\"uk_UA\")    # можна використовувати кілька локальних налаштувань одночасно, передавши список\n",
    "for _ in range(5):\n",
    "    print(\n",
    "        f\"name:      {fake.name():<22}, phone: {fake.phone_number():<20}, e-mail: {fake.ascii_email()}, \"\n",
    "        f\"\\naddress:   {fake.address()}\"\n",
    "    )\n"
   ],
   "outputs": [],
   "execution_count": null
  },
  {
   "cell_type": "markdown",
   "metadata": {},
   "source": [
    "Не будемо глибоко вдаватись в роботу з модулем Faker — достатньо коду, що наведено вище. Ми не будемо використовувати складніші методи та класи протягом цього заняття. Якщо вас зацікавить робота з пакетом Faker — посилання на документацію наведені вище."
   ]
  },
  {
   "cell_type": "markdown",
   "metadata": {},
   "source": [
    "## CSV"
   ]
  },
  {
   "cell_type": "markdown",
   "metadata": {},
   "source": [
    "## Що таке файл csv?\n",
    "\n",
    "Це текстовий файл, який містить якусь інформацію.\n",
    "\n",
    "Кожен рядок – це окремий рядок таблиці, а стовпці відокремлені один від одного спеціальними символами – роздільниками (наприклад, комою). Власне CSV — Comma Separated Value — \"значення, розділені комами\". Але, це можуть бути не тільки коми, а певні символи, які визначені як роздільники (пробіл, крапка з комою, табуляція, інше).\n",
    "\n",
    "CSV є одним із найпоширеніших форматів імпорту та експорту електронних таблиць та баз даних. CSV використовувався протягом багатьох років до того, як був стандартизований [RFC 4180](https://www.rfc-editor.org/rfc/rfc4180.html). Запізнення чітко визначеного стандарту означає, що в даних, створюваних різними додатками, часто існують незначні відмінності. Ці відмінності можуть викликати роздратування при обробці CSV-файлів з декількох джерел. Тим не менш, хоча роздільники, символи лапок та деякі інші властивості відрізняються, загальний формат є досить універсальним.\n",
    "\n",
    "\n",
    "Приклад файлу CSV-формату:"
   ]
  },
  {
   "cell_type": "markdown",
   "metadata": {},
   "source": [
    "![приклад файла CSV](./media/CSV_example.png)"
   ]
  },
  {
   "cell_type": "markdown",
   "source": [
    "У python існує вбудований модуль — csv, який надає повний спектр можливостей для роботи з файлами цього формату. Він дозволяє як читати такі файли, так й створювати їх різними методами. Докладна документація про модуль знаходиться [тут](https://docs.python.org/3/library/csv.html).\n",
    "\n",
    "Створимо CSV-файл за допомогою методу csv.DictWriter. Приклад коду наведено нижче:"
   ],
   "metadata": {
    "collapsed": false
   }
  },
  {
   "cell_type": "code",
   "execution_count": 20,
   "metadata": {},
   "outputs": [],
   "source": [
    "import csv\n",
    "\n",
    "with open('data/person.csv', 'w', newline='', encoding=\"utf-8\") as csvfile:\n",
    "    fieldnames = ['name', 'phone', 'e-mail', 'address']\n",
    "    writer = csv.DictWriter(csvfile, fieldnames=fieldnames, quoting=csv.QUOTE_ALL)\n",
    "    writer.writeheader()\n",
    "    for _ in range(100):\n",
    "        writer.writerow({'name': fake.name(), 'phone': fake.phone_number(), 'e-mail': fake.ascii_email(), 'address': fake.address()})"
   ]
  },
  {
   "cell_type": "markdown",
   "source": [
    "В першому рядку ми імпортуємо модуль, в рядку 3 — використовуємо оператор контексту та відкриваємо текстовий файл (у теці data, файл person.csv. Файл може не існувати — тоді його буде створено. Якщо файл існує — він буде перезаписаний). Ми будемо використовувати файловий об'єкт з іменем csvfile (ім'я може буде будь-яким), який створено в цьому рядку.\n",
    "\n",
    "В рядку 4 створюємо список fieldnames, який складається з назв стовпців таблиці, яку будемо зберігати у csv-файлі.\n",
    "\n",
    "Рядок 5 — створюємо екземпляр csv.DictWriter() з конкретними параметрами (пов'язаний з файлом, з нашими назвами колонок та іншими параметрами).\n",
    "\n",
    "Рядок 6 — записуємо в файл перший рядок — це назви колонок.\n",
    "\n",
    "Рядок 7, 8 — створюємо в циклі 100 рядків з фейковими даними і записуємо їх в файл, використовуючи метод writerow створеного у п'ятому рядку екземпляра csv.DictWriter().\n",
    "\n",
    "Після виконання цього блоку коду — подивіться на створений у директорії data файл."
   ],
   "metadata": {
    "collapsed": false
   }
  },
  {
   "cell_type": "markdown",
   "source": [
    "Створювати csv-файли за допомогою вбудованого модуля csv можна не одним шляхом. Існує метод csv.writer(), який створює об'єкт writer зі своїми методами для запису одного рядка або групи рядків. Ми використали інший шлях — з використанням csv.DictWriter()."
   ],
   "metadata": {
    "collapsed": false
   }
  },
  {
   "cell_type": "markdown",
   "source": [
    "Для читання створенного файлу ми будемо використовувати клас csv.DictReader().\n",
    "\n",
    "class csv.DictReader(f, fieldnames=None, restkey=None, restval=None, dialect='excel', *args, **kwds) — відображає інформацію про стовпці у словник, ключі якого задані у параметрі fieldnames.\n",
    "\n",
    "fieldnames — це послідовність ключів. Якщо параметр опущено, як ключі використовуються значення з першого рядка файлу. Якщо рядок має більше полів, ніж довжина fieldnames, дані, що залишилися, будуть поміщені в список з ключем зі змінної restkey. Якщо рядок має менше полів, значення, що залишилися, будуть встановлені у значення restval.\n",
    "\n",
    "Інші аргументи прокидаються далі у екземпляр reader.\n",
    "У нашому випадку ми не надаємо fieldnames — тому у якості ключів будуть використані значення першого рядка файлу.\n",
    "\n",
    "Приклад використання:"
   ],
   "metadata": {
    "collapsed": false
   }
  },
  {
   "cell_type": "code",
   "execution_count": 21,
   "metadata": {},
   "outputs": [
    {
     "name": "stdout",
     "output_type": "stream",
     "text": [
      "Амалія Лазаренко\n",
      "проспект Наявний 6-й, буд. 96 кв. 76, Чортків, 26662\n"
     ]
    }
   ],
   "source": [
    "with open('data/person.csv', 'r', encoding=\"utf-8\") as csvfile:\n",
    "    persons = csv.DictReader(csvfile)\n",
    "    persons_list = [person for person in persons]\n",
    "\n",
    "print(persons_list[30]['name'])\n",
    "print(persons_list[30]['address'])\n",
    "#print(persons_list)"
   ]
  },
  {
   "cell_type": "markdown",
   "source": [
    "Так як RFC 4180 з'явився досить пізно існує багато варіантів форматів csv — з різними роздільниками, брати\\не брати\\брати частково в лапки (подвійні\\одинарні). Це обумовило існування, так званих діалектів: конкретно прийнятих форматів.\n",
    "\n",
    "\n",
    "\n",
    "Щоб полегшити визначення формату вхідних та вихідних записів, окремі параметри форматування згруповані разом у діалекти. Діалект — це підклас класу Dialect, який має набір специфічних методів та один метод .validate(). При створенні об’єктів читання або запису програміст може вказати рядок або підклас класу Dialect в якості параметрів діалекту. На додаток до параметра діалекту або замість нього програміст може також вказати окремі параметри форматування, які мають ті самі назви, що й атрибути, визначені нижче для класу Dialect.\n",
    "\n",
    "##### Dialect.delimiter¶\n",
    "Односимвольний рядок, який використовується для розділення полів. За замовчуванням це \",\".\n",
    "\n",
    "##### Dialect.doublequote\n",
    "Керує тим, як екземпляри quotechar, що з’являються всередині поля, повинні взяти в лапки. Якщо True, символ подвоюється. Якщо False, escapechar використовується як префікс до quotechar. За замовчуванням має значення True.\n",
    "\n",
    "Під час виведення, якщо Dialect.doublequote має значення False та не встановлено escapechar, виникає повідомлення про помилку, якщо у полі знайдено quotechar.\n",
    "\n",
    "##### Dialect.escapechar\n",
    "Односимвольний рядок, який використовується автором для екранування роздільника, якщо лапки встановлено на QUOTE_NONE та quotechar, якщо подвійна лапка має значення False. Під час читання escapechar видаляє будь-яке спеціальне значення наступного символу. За замовчуванням встановлено значення «Немає», що вимикає екранування.\n",
    "\n",
    "##### Dialect.lineterminator\n",
    "Рядок, який використовується для завершення рядків, створених автором. За замовчуванням це '\\r\\n'.\n",
    "\n",
    "##### Dialect.quotechar\n",
    "Односимвольний рядок, який використовується для взяття в лапки полів, що містять спеціальні символи, такі як роздільник або quotechar, або які містять символи нового рядка. За замовчуванням це '\"'.\n",
    "\n",
    "##### Dialect.quoting\n",
    "Контролює, коли цитати мають бути створені автором та розпізнані читачем. Він може приймати будь-які константи QUOTE_* (є визначення в документації) й за замовчуванням QUOTE_MINIMAL.\n",
    "\n",
    "##### Dialect.skipinitialspace\n",
    "Якщо значення True, пробіли відразу після роздільника ігноруються. За замовчуванням значення False.\n",
    "\n",
    "##### Dialect.strict\n",
    "Коли True, викликати помилку винятку при неправильному введенні CSV. За замовчуванням значення False."
   ],
   "metadata": {
    "collapsed": false
   }
  },
  {
   "cell_type": "markdown",
   "source": [
    "Існує декілька попередньо встановлених діалектів:\n",
    "\n",
    "* class csv.excel — діалект CSV-файлу, який зазвичай генерується програмою Excel;\n",
    "\n",
    "* class csv.excel_tab — діалект CSV-файлу, який зазвичай генерується програмою Excel з налаштуванням \"розділювач за допомогою TAB\";\n",
    "\n",
    "* class csv.unix_dialect — діалект CSV-файлу, який зазвичай генерується в UNIX-системах ('\\n' для нового рядка, залагоджування всіх полів)."
   ],
   "metadata": {
    "collapsed": false
   }
  },
  {
   "cell_type": "markdown",
   "metadata": {},
   "source": [
    "## XML"
   ]
  },
  {
   "cell_type": "markdown",
   "source": [
    "XML (eXtensible Markup Language) — «розширювана мова розмітки». Спеціально створена мова, яка призначена для розмітки даних. Тобто, з'являются якісь спеціальні ознаки — \"теги\" — за допомогою яких можна розмітити дані, що дає можливість структурувати дані й створити механізми для їх обробки. З одного боку досить складно, але насправді це не так. Подивіться на приклад нижче:\n",
    "\n",
    "```xml\n",
    "<?xml version=\"1.0\"?>\n",
    "<CAT>\n",
    "  <NAME>Izzy</NAME>\n",
    "  <BREED>Siamese</BREED>\n",
    "  <AGE>6</AGE>\n",
    "  <ALTERED>yes</ALTERED>\n",
    "  <DECLAWED>no</DECLAWED>\n",
    "  <LICENSE>Izz138bod</LICENSE>\n",
    "  <OWNER>Colin Wilcox</OWNER>\n",
    "</CAT>\n",
    "```\n",
    "\n",
    "Перший рядок — `<?xml version=\"1.0\"?>` — це заголовок, що надає інформацію про версію та стандарт протоколу. Далі йде опис кота, дані які розмічені у xml-форматі. І `<NAME>Izzy</NAME>` — це відкриваючий (`<NAME>`) та закриваючий (`</NAME>`) теги й сама інформація — `Izzy`. Дані можуть бути згруповані (ви бачите що деякі теги згруповані між двома іншими тегами - `<CAT> ... </CAT>`). Таким чином, нічого надскладного, якщо розібратися детальніше.\n",
    "\n",
    "Python має вбудований пакет xml, у якому згруповані інструменти для роботи з XML. На сьогодні у WEB-програмуванні значно частіше використовують формат json, який ми розглянемо нижче. Але ви можете зустріти XML формат у створених раніше застосунках. Тому без ретельного занурення, але ми розглянемо цей формат даних.\n",
    "\n",
    "На попередньому кроці ми створили набір фейкових даних, який зберегли у csv-форматі. Ці ж дані ми збережемо й у XML-форматі. Приклад коду:"
   ],
   "metadata": {
    "collapsed": false
   }
  },
  {
   "cell_type": "code",
   "execution_count": 22,
   "metadata": {},
   "outputs": [],
   "source": [
    "from xml.etree import ElementTree as ET\n",
    "\n",
    "personal_data = ET.Element('data')  # створили кореневий елемент\n",
    "\n",
    "for element in persons_list:\n",
    "    record = ET.SubElement(personal_data, 'record')     # створили новий запис (record) до кореневого елементу\n",
    "    name = ET.SubElement(record, 'name')                # створили нове поле (name) у записі\n",
    "    name.text = str(element['name'])                    # додали дані у створене поле\n",
    "    address = ET.SubElement(record, 'address')          # створили нове поле (address) у записі\n",
    "    address.text = str(element['address'])              # додали дані у створене поле\n",
    "    phones = ET.SubElement(record, 'phones')\n",
    "    phone = ET.SubElement(phones, 'phone')\n",
    "    phone.text = str(element['phone'])\n",
    "    emails = ET.SubElement(record, 'emails')\n",
    "    email = ET.SubElement(emails, 'email')\n",
    "    email.text = str(element['e-mail'])\n",
    "\n",
    "tree = ET.ElementTree(personal_data)\n",
    "tree.write('data/person.xml', encoding='utf-8')"
   ]
  },
  {
   "cell_type": "markdown",
   "source": [
    "В першому рядку ми імпортували необхідні інструменти. Насправді їх досить багато, докладніше можна ознайомитись [тут](https://docs.python.org/3/library/xml.html).\n",
    "\n",
    "В третьому рядку ми створюємо \"кореневий елемент\". Це, умовно кажучи, вершина піраміди наших даних.\n",
    "\n",
    "Рядок 5 — цикл, у якому ми ітеруємо наш список словників з даними.\n",
    "\n",
    "Рядки 6-16 — на кожній ітерації ми створюємо вкладену одиницю даних — запис (рядок 6), який буде містити у собі ще вкладені одиниці даних, які ми позначаемо тегами name, address, phones, emails (рядки 7, 9, 11, 14). Передбачаємо, що телефонів та електронних адрес у персони може бути декілька, тому у тегах phones та emails ми створюємо вкладені теги phone та email. В нашому випадку, у нас буде по одному телефону та електронній адресі. Але наша структура даних передбачає, що їх може бути декілька. XML допускає будь-яку глибину вкладеності даних, що дає переваги у структуруванні в порівнянні з CSV-форматом.\n",
    "\n",
    "У рядках 8, 10, 13, 16 — ми вносимо дані у нашу створену структуру даних.\n",
    "\n",
    "У рядку 18 — ми створюємо дерево даних, а в рядку 19 — запишемо його до файлу.\n",
    "\n",
    "Відкрийте створений файл та ознайомтесь з його структурою."
   ],
   "metadata": {
    "collapsed": false
   }
  },
  {
   "cell_type": "markdown",
   "source": [
    "![json picture](./media/json_picture.jpg)\n",
    "\n",
    "![json_picture](./media/json_sheme.png)"
   ],
   "metadata": {
    "collapsed": false
   }
  },
  {
   "cell_type": "markdown",
   "metadata": {},
   "source": [
    "## JSON\n",
    "\n",
    "\n",
    "__J__ava __S__cript __O__bject __N__otation - (__JSON__) — був створений в рамках мови програмування JavaScript. Але на сьогодні — це вже давно самостійно існуючий [проект з самостійним сайтом, документацією та життям](https://www.json.org/json-en.html).\n",
    "\n",
    "Фактично він став самостійним стандартом для передачі та зберігання даних у web-застосунках, з шаленою популярністю, яка обумовлена його простотою, гнучкістю та зручністю як для обробки, так й для читання людиною.\n",
    "\n",
    "Наприклад:\n",
    "```json\n",
    "{\n",
    "    \"firstName\": \"Stepan\",\n",
    "    \"lastName\": \"Bandera\",\n",
    "    \"hobbies\": [\"sport\", \"music\", \"politics\"],\n",
    "    \"year of birth\": 1909,\n",
    "    \"children\": [\n",
    "        {\n",
    "            \"firstName\": \"Natalia\",\n",
    "            \"year of birth\": 1941\n",
    "        },\n",
    "        {\n",
    "            \"firstName\": \"Andriy\",\n",
    "            \"year of birth\": 1946\n",
    "        },\n",
    "        {\n",
    "            \"firstName\": \"Lesya\",\n",
    "            \"year of birth\": 1947\n",
    "        }\n",
    "    ]\n",
    "}\n",
    "```\n",
    "\n",
    "Даний формат дуже схожий на синтаксис python. Але це є повноцінний JSON, який підтримує примітивні типи, такі як рядки та числа, а також вкладені списки та об’єкти.\n",
    "\n",
    "Python поставляється з вбудованим пакетом json для кодування та декодування даних JSON.\n"
   ]
  },
  {
   "cell_type": "code",
   "execution_count": 23,
   "outputs": [],
   "source": [
    "import json"
   ],
   "metadata": {
    "collapsed": false
   }
  },
  {
   "cell_type": "markdown",
   "source": [
    "Процес кодування JSON зазвичай називається серіалізацією. Цей термін стосується перетворення даних у ряд байтів (отже, serial), які потрібно зберігати або передавати через мережу. Також можна почути термін \"маршалінг\". Звичайно, десеріалізація — це взаємо обернений процес декодування даних, збережених або доставлених у стандарті JSON.\n",
    "\n",
    "#### Серіалізація JSON\n",
    "Що відбувається після того, як комп’ютер обробить велику кількість інформації? Потрібно створити дамп даних. Відповідно, json бібліотека розкриває метод запису даних .dump() до файлів. Існує також метод .dumps() (вимовляється як «dumps») для запису у рядок Python.\n",
    "\n",
    "Прості об’єкти Python перекладаються у JSON відповідно до досить інтуїтивного перетворення."
   ],
   "metadata": {
    "collapsed": false
   }
  },
  {
   "cell_type": "markdown",
   "source": [
    "|   Python    |  JSON  |\n",
    "|:-----------:|:------:|\n",
    "|    dict     | object |\n",
    "| list, tuple | array  |\n",
    "|     str     | string |\n",
    "| int, float  | number |\n",
    "|    True     |  true  |\n",
    "|    False    | false  |\n",
    "|    None     |  null  |"
   ],
   "metadata": {
    "collapsed": false
   }
  },
  {
   "cell_type": "markdown",
   "source": [
    "Простий приклад серіалізації наведено нижче. Ми записуємо до файлу person.json створений раніше список словників із фейковими даними у форматі json:"
   ],
   "metadata": {
    "collapsed": false
   }
  },
  {
   "cell_type": "code",
   "execution_count": 24,
   "metadata": {},
   "outputs": [],
   "source": [
    "with open('data/person.json', 'w') as jsonfile:\n",
    "    json.dump(persons_list, jsonfile)"
   ]
  },
  {
   "cell_type": "markdown",
   "source": [
    "Зауважте, що метод .dump() приймає два позиційні аргументи: (1) об’єкт даних, який потрібно серіалізувати, та (2) файлоподібний об’єкт, до якого будуть записані байти.\n",
    "\n",
    "Або, якщо ви були настільки схильні продовжувати використовувати ці серіалізовані дані JSON у своїй програмі, ви можете записати їх у рідний str-об’єкт Python."
   ],
   "metadata": {
    "collapsed": false
   }
  },
  {
   "cell_type": "code",
   "execution_count": 25,
   "outputs": [],
   "source": [
    "json_string = json.dumps(persons_list)"
   ],
   "metadata": {
    "collapsed": false
   }
  },
  {
   "cell_type": "markdown",
   "source": [
    "Зверніть увагу, що файлоподібний об’єкт відсутній, оскільки ви насправді не записуєте на диск. Окрім цього, метод .dumps() це так само, як dump().\n",
    "\n",
    "Пам’ятайте, що JSON призначений для того, щоб його легко читали люди, але читабельного синтаксису недостатньо, якщо все це зіпсовано. Крім того, ви, ймовірно, маєте інший стиль програмування, ніж інші, й вам може бути легше читати код, коли він відформатований на ваш смак.\n",
    "\n",
    "Перший варіант, який більшість людей хоче змінити, це пробіли. Ви можете використовувати іменований аргумент indent, щоб вказати розмір відступу для вкладених структур."
   ],
   "metadata": {
    "collapsed": false
   }
  },
  {
   "cell_type": "code",
   "execution_count": 26,
   "outputs": [],
   "source": [
    "json_string_indent = json.dumps(persons_list, indent=4)"
   ],
   "metadata": {
    "collapsed": false
   }
  },
  {
   "cell_type": "markdown",
   "source": [
    "Іншим варіантом форматування є separators — аргумент ключового слова. Пропоную вам самостійно ознайомитися з його використанням у документації."
   ],
   "metadata": {
    "collapsed": false
   }
  },
  {
   "cell_type": "markdown",
   "source": [
    "#### Десеріалізація JSON\n",
    "\n",
    "У бібліотеці json ви знайдете методи .load() та .loads() для перетворення даних у кодуванні JSON до об’єктів Python.\n",
    "\n",
    "Подібно до серіалізації, існує проста таблиця перетворення для десеріалізації. Виглядає вона наступним чином:"
   ],
   "metadata": {
    "collapsed": false
   }
  },
  {
   "cell_type": "markdown",
   "source": [
    "|      JSON       | Python |\n",
    "|:---------------:|:------:|\n",
    "|     object      |  dict  |\n",
    "|      array      |  list  |\n",
    "|     string      |  str   |\n",
    "|  number(цілий)  |  int   |\n",
    "| number(дійсний) | float  |\n",
    "|      true       |  True  |\n",
    "|      false      | False  |\n",
    "|      null       |  None  |"
   ],
   "metadata": {
    "collapsed": false
   }
  },
  {
   "cell_type": "markdown",
   "source": [
    "Технічно це перетворення не є ідеально зворотнім до таблиці серіалізації. Це означає, що якщо ви закодуєте об’єкт зараз, а потім декодуєте його знову пізніше, ви можете не отримати такий же об’єкт.\n",
    "\n",
    "Поміркуйте про перетворення tuple (python) -> array (json) -> list (python).\n",
    "\n",
    "Поекспериментуйте з серіалізацією\\десеріалізацією обїектів python set у json та навпаки.\n"
   ],
   "metadata": {
    "collapsed": false
   }
  },
  {
   "cell_type": "markdown",
   "source": [
    "Для серіалізації\\десеріалізації складних об'єктів (наприклад, своїх класів даних) необхідно створювати серіалізатор — підклас JSONEncoder, в якому замінюється метод default(). Наприклад, створимо серіалізатор для типу даних complex:\n"
   ],
   "metadata": {
    "collapsed": false
   }
  },
  {
   "cell_type": "code",
   "execution_count": 27,
   "outputs": [],
   "source": [
    "class ComplexEncoder(json.JSONEncoder):\n",
    "    def default(self, z):\n",
    "        if isinstance(z, complex):\n",
    "            return (z.real, z.imag)\n",
    "        else:\n",
    "            return super().default(z)"
   ],
   "metadata": {
    "collapsed": false
   }
  },
  {
   "cell_type": "markdown",
   "source": [
    "Замість того, щоб піднімати TypeError, можна просто дозволити базовому класу впоратися з цим. Можна використовувати це або безпосередньо у методі dump() через cls параметр або шляхом створення екземпляру кодувальника та виклику його методу encode():"
   ],
   "metadata": {
    "collapsed": false
   }
  },
  {
   "cell_type": "code",
   "execution_count": 28,
   "outputs": [
    {
     "name": "stdout",
     "output_type": "stream",
     "text": [
      "[2.0, 5.0]\n"
     ]
    }
   ],
   "source": [
    "complex_to_json = json.dumps(2 + 5j, cls=ComplexEncoder)\n",
    "print(complex_to_json)"
   ],
   "metadata": {
    "collapsed": false
   }
  },
  {
   "cell_type": "markdown",
   "source": [
    "Інший підхід:"
   ],
   "metadata": {
    "collapsed": false
   }
  },
  {
   "cell_type": "code",
   "execution_count": 29,
   "outputs": [
    {
     "name": "stdout",
     "output_type": "stream",
     "text": [
      "[3.0, 6.0]\n"
     ]
    }
   ],
   "source": [
    "encoder = ComplexEncoder()\n",
    "complex_to_json = encoder.encode(3 + 6j)\n",
    "print(complex_to_json)"
   ],
   "metadata": {
    "collapsed": false
   }
  },
  {
   "cell_type": "markdown",
   "source": [
    "#### Декодування користувацьких типів\n",
    "Хоча дійсна та уявна частини комплексного числа є абсолютно необхідними, насправді їх недостатньо для відтворення об’єкту. Ось що відбувається, коли ви намагаєтесь закодувати комплексне число за допомогою, ComplexEncoder-а потім декодуєте результат:"
   ],
   "metadata": {
    "collapsed": false
   }
  },
  {
   "cell_type": "code",
   "execution_count": 30,
   "outputs": [
    {
     "name": "stdout",
     "output_type": "stream",
     "text": [
      "[4.0, 17.0]\n"
     ]
    }
   ],
   "source": [
    "complex_json = json.dumps(4 + 17j, cls=ComplexEncoder)\n",
    "decode_complex_json = json.loads(complex_json)\n",
    "print(decode_complex_json)"
   ],
   "metadata": {
    "collapsed": false
   }
  },
  {
   "cell_type": "markdown",
   "source": [
    "Усе, що отримаємо назад, — це список, та доведеться передати значення до complex-конструктора, якщо знову потрібен цей складний об’єкт. Бракує метаданих або інформації про тип даних, який ви кодуєте."
   ],
   "metadata": {
    "collapsed": false
   }
  },
  {
   "cell_type": "markdown",
   "source": [
    "Модуль json очікує, що всі типи, що налаштовуватимуться будуть виражені як objects у стандарті JSON. Для різноманітності можна створити файл JSON на цей раз під назвою complex_data.json та додати наступне, що object представляє комплексне число:\n",
    "\n",
    "```json\n",
    "{\n",
    "    \"__complex__\": true,\n",
    "    \"real\": 42,\n",
    "    \"imag\": 36\n",
    "}\n",
    "```\n",
    "\n",
    "Бачите розумну частину? Цим \"__complex__\" ключем є метадані, про які ми щойно говорили. Насправді, не має значення, яке пов’язане значення. Щоб цей маленький хак запрацював, все, що вам потрібно зробити, це переконатися, що ключ існує:"
   ],
   "metadata": {
    "collapsed": false
   }
  },
  {
   "cell_type": "code",
   "execution_count": 31,
   "outputs": [],
   "source": [
    "def decode_complex(dct):\n",
    "    if \"__complex__\" in dct:\n",
    "        return complex(dct[\"real\"], dct[\"imag\"])\n",
    "    return dct"
   ],
   "metadata": {
    "collapsed": false
   }
  },
  {
   "cell_type": "markdown",
   "source": [
    "Якщо \"__complex__\" немає у словнику, можна просто повернути об’єкт та дозволити декодеру за замовчуванням впоратися з ним.\n",
    "\n",
    "Кожного разу, коли метод load() намагається проаналізувати object, надається можливість втрутитися до того, як декодер за замовчуванням отримає доступ до даних. Можна зробити це, надавши свою функцію декодування до іменованого аргументу object_hook."
   ],
   "metadata": {
    "collapsed": false
   }
  },
  {
   "cell_type": "code",
   "execution_count": 32,
   "outputs": [
    {
     "name": "stdout",
     "output_type": "stream",
     "text": [
      "[(42+36j), (64+11j)]\n"
     ]
    }
   ],
   "source": [
    "with open(\"data/complex_data.json\") as complex_data:\n",
    "    data = complex_data.read()\n",
    "    z = json.loads(data, object_hook=decode_complex)\n",
    "\n",
    "print(z)"
   ],
   "metadata": {
    "collapsed": false
   }
  },
  {
   "cell_type": "markdown",
   "source": [
    "Абсолютно інший інструмент, який вміє читати значну частину різних типів даних — модуль pandas, але це — абсолютно інша історія, яка виходить за межі сьогоднішньої теми. Яким чином це працює, дивіться код нижче:"
   ],
   "metadata": {
    "collapsed": false
   }
  },
  {
   "cell_type": "code",
   "execution_count": 33,
   "metadata": {},
   "outputs": [
    {
     "data": {
      "text/plain": "                 name              phone                             e-mail  \\\n0       Марія Яремчук      000 667 34 30          ustymandriichuk@chmil.net   \n1     Єлисавета Хомик  +38 000 129 98 16  iustynaievtushenko@andrusenko.net   \n2  Світлана Приходько  +38 094 117-70-03                   dzasenko@ukr.net   \n3        Хома Кабалюк          217-95-61                   echmil@gmail.com   \n4     Устим Гайдабура  +38 015 890-46-81               babkoorysia@email.ua   \n\n                                             address  \n0     провулок Басейний 2-й, буд. 6, Красилів, 79930  \n1         шосе Єврейська, буд. 398, Миронівка, 23866  \n2         вулиця Світлий, буд. 98, Кам'янське, 94205  \n3  сквер Прорізний, буд. 21, Старокостянтинів, 20374  \n4  парк Святослава Ріхтера, буд. 23, Волноваха, 1...  ",
      "text/html": "<div>\n<style scoped>\n    .dataframe tbody tr th:only-of-type {\n        vertical-align: middle;\n    }\n\n    .dataframe tbody tr th {\n        vertical-align: top;\n    }\n\n    .dataframe thead th {\n        text-align: right;\n    }\n</style>\n<table border=\"1\" class=\"dataframe\">\n  <thead>\n    <tr style=\"text-align: right;\">\n      <th></th>\n      <th>name</th>\n      <th>phone</th>\n      <th>e-mail</th>\n      <th>address</th>\n    </tr>\n  </thead>\n  <tbody>\n    <tr>\n      <th>0</th>\n      <td>Марія Яремчук</td>\n      <td>000 667 34 30</td>\n      <td>ustymandriichuk@chmil.net</td>\n      <td>провулок Басейний 2-й, буд. 6, Красилів, 79930</td>\n    </tr>\n    <tr>\n      <th>1</th>\n      <td>Єлисавета Хомик</td>\n      <td>+38 000 129 98 16</td>\n      <td>iustynaievtushenko@andrusenko.net</td>\n      <td>шосе Єврейська, буд. 398, Миронівка, 23866</td>\n    </tr>\n    <tr>\n      <th>2</th>\n      <td>Світлана Приходько</td>\n      <td>+38 094 117-70-03</td>\n      <td>dzasenko@ukr.net</td>\n      <td>вулиця Світлий, буд. 98, Кам'янське, 94205</td>\n    </tr>\n    <tr>\n      <th>3</th>\n      <td>Хома Кабалюк</td>\n      <td>217-95-61</td>\n      <td>echmil@gmail.com</td>\n      <td>сквер Прорізний, буд. 21, Старокостянтинів, 20374</td>\n    </tr>\n    <tr>\n      <th>4</th>\n      <td>Устим Гайдабура</td>\n      <td>+38 015 890-46-81</td>\n      <td>babkoorysia@email.ua</td>\n      <td>парк Святослава Ріхтера, буд. 23, Волноваха, 1...</td>\n    </tr>\n  </tbody>\n</table>\n</div>"
     },
     "execution_count": 33,
     "metadata": {},
     "output_type": "execute_result"
    }
   ],
   "source": [
    "import pandas as pd\n",
    "\n",
    "persons_read_csv = pd.read_csv('data/person.csv')\n",
    "\n",
    "persons_read_json = pd.read_json('data/person.json')\n",
    "\n",
    "\n",
    "persons_read_csv.head()"
   ]
  },
  {
   "cell_type": "code",
   "execution_count": 34,
   "metadata": {},
   "outputs": [
    {
     "data": {
      "text/plain": "                 name              phone                             e-mail  \\\n0       Марія Яремчук      000 667 34 30          ustymandriichuk@chmil.net   \n1     Єлисавета Хомик  +38 000 129 98 16  iustynaievtushenko@andrusenko.net   \n2  Світлана Приходько  +38 094 117-70-03                   dzasenko@ukr.net   \n3        Хома Кабалюк          217-95-61                   echmil@gmail.com   \n4     Устим Гайдабура  +38 015 890-46-81               babkoorysia@email.ua   \n\n                                             address  \n0     провулок Басейний 2-й, буд. 6, Красилів, 79930  \n1         шосе Єврейська, буд. 398, Миронівка, 23866  \n2         вулиця Світлий, буд. 98, Кам'янське, 94205  \n3  сквер Прорізний, буд. 21, Старокостянтинів, 20374  \n4  парк Святослава Ріхтера, буд. 23, Волноваха, 1...  ",
      "text/html": "<div>\n<style scoped>\n    .dataframe tbody tr th:only-of-type {\n        vertical-align: middle;\n    }\n\n    .dataframe tbody tr th {\n        vertical-align: top;\n    }\n\n    .dataframe thead th {\n        text-align: right;\n    }\n</style>\n<table border=\"1\" class=\"dataframe\">\n  <thead>\n    <tr style=\"text-align: right;\">\n      <th></th>\n      <th>name</th>\n      <th>phone</th>\n      <th>e-mail</th>\n      <th>address</th>\n    </tr>\n  </thead>\n  <tbody>\n    <tr>\n      <th>0</th>\n      <td>Марія Яремчук</td>\n      <td>000 667 34 30</td>\n      <td>ustymandriichuk@chmil.net</td>\n      <td>провулок Басейний 2-й, буд. 6, Красилів, 79930</td>\n    </tr>\n    <tr>\n      <th>1</th>\n      <td>Єлисавета Хомик</td>\n      <td>+38 000 129 98 16</td>\n      <td>iustynaievtushenko@andrusenko.net</td>\n      <td>шосе Єврейська, буд. 398, Миронівка, 23866</td>\n    </tr>\n    <tr>\n      <th>2</th>\n      <td>Світлана Приходько</td>\n      <td>+38 094 117-70-03</td>\n      <td>dzasenko@ukr.net</td>\n      <td>вулиця Світлий, буд. 98, Кам'янське, 94205</td>\n    </tr>\n    <tr>\n      <th>3</th>\n      <td>Хома Кабалюк</td>\n      <td>217-95-61</td>\n      <td>echmil@gmail.com</td>\n      <td>сквер Прорізний, буд. 21, Старокостянтинів, 20374</td>\n    </tr>\n    <tr>\n      <th>4</th>\n      <td>Устим Гайдабура</td>\n      <td>+38 015 890-46-81</td>\n      <td>babkoorysia@email.ua</td>\n      <td>парк Святослава Ріхтера, буд. 23, Волноваха, 1...</td>\n    </tr>\n  </tbody>\n</table>\n</div>"
     },
     "execution_count": 34,
     "metadata": {},
     "output_type": "execute_result"
    }
   ],
   "source": [
    "persons_read_json.head()"
   ]
  }
 ],
 "metadata": {
  "interpreter": {
   "hash": "ecd95963874e8f86da22c2ca23b4129937cd1ce1f7ba098fba362a7eccc1b5a6"
  },
  "kernelspec": {
   "display_name": "Python 3 (ipykernel)",
   "language": "python",
   "name": "python3"
  },
  "language_info": {
   "codemirror_mode": {
    "name": "ipython",
    "version": 3
   },
   "file_extension": ".py",
   "mimetype": "text/x-python",
   "name": "python",
   "nbconvert_exporter": "python",
   "pygments_lexer": "ipython3",
   "version": "3.10.4"
  }
 },
 "nbformat": 4,
 "nbformat_minor": 2
}
