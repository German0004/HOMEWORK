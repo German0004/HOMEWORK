{
 "cells": [
  {
   "cell_type": "code",
   "execution_count": null,
   "metadata": {
    "pycharm": {
     "is_executing": true
    }
   },
   "outputs": [],
   "source": [
    "print(\"Типізований Python\")"
   ]
  },
  {
   "cell_type": "markdown",
   "metadata": {},
   "source": [
    "## Типізований Python\n",
    "\n",
    "Комп'ютери та його програми працюють з даними. Програма Instagram завантажує дані про нових підписників, комп'ютери Facebook обробляють запити користувачів та віддають потрібні дані у відповідь. Навіть цей документ містить дані, які комп'ютер обробив, щоб відобразити на екрані.\n",
    "\n",
    "Дані — це важлива та невід'ємна частина будь-якої програми. Їх можна зберігати в постійній пам'яті (ПЗП) або в оперативній (ОЗП). У постійній пам'яті зберігаються фотографії, музика, системні файли та інше. В оперативній пам'яті зберігаються дані, що програмам потрібні під час їх роботи: браузеру потрібно зберігати сторінку, а Skype зберігає повідомлення.\n",
    "\n",
    "У Python будь-які дані характеризуються своїми типами. Тип даних визначає множину допустимих значень, які може приймати змінна даного типу та множину допустимих операцій, які можуть застосовуватися до цього типу.\n",
    "\n",
    "Для комп'ютера не все так очевидно. Йому явно треба сказати, що це число, а значить з цим числом можна робити математичні операції. \"А це рядок\" – значить, можемо поєднати рядки, але ніяк не їхній квадрат.\n",
    "Тобто, тип визначає можливі значення та їх сенс, операції, а також способи зберігання значень типу.\n",
    "\n",
    "__Типізація__ — це операція визначення множини припустимих значень даних та множину операцій над даними. Призначення та перевірка типів може здійснюватися заздалегідь (статична типізація), безпосередньо при використанні (динамічна типізація) або поєднувати обидва методи. Типи можуть призначатися \"раз і назавжди\" (сильна типізація) або дозволяти себе змінювати (слабка типізація).\n",
    "\n",
    "__Статична типізація__ — прийом, у якому змінна пов'язується з типом під час оголошення і тип може бути змінено пізніше. Приклади статично типізованих мов - C#, Java, C++, Pascal, Haskell, Scala.\n",
    "\n",
    "__Динамічна типізація__ — прийом, при якому змінна зв'язується з типом у момент присвоювання значення, а не в момент оголошення змінної. Таким чином, у різних ділянках програми одна і та ж змінна може набувати значення різних типів. Приклади мов із динамічною типізацією - Smalltalk, Python, Ruby, PHP, Perl, JavaScript, Lisp, Erlang.\n",
    "\n",
    "За однією з класифікацій, мови програмування неформально діляться на сильно (суворо) та слабо типізовані (англ. strongly and weakly typed), тобто такі, що мають сильну або слабку систему типів. Ці терміни не є однозначно трактованими, і найчастіше використовуються для вказівки на переваги та недоліки конкретної мови. Існують конкретніші поняття, які призводять до називання тих чи інших систем типів «сильними» чи «слабкими».\n",
    "Система типів називається сильною, якщо вона унеможливлює виникнення непроконтрольованих помилок часу виконання, пов'язаних з узгодженням типів.\n",
    "Приклади мов із сильною типізацією – Haskell, Scala, Java. Приклади мов з слабкою типізацією – C, JavaScript, PHP.\n",
    "\n",
    "![static_typing](media/static_typing.png)\n",
    "\n",
    "Переваги статичної типізації:\n",
    "* однозначність;\n",
    "* виключення помилок;\n",
    "* корисна у великих проєктах.\n",
    "Недоліки:\n",
    "* низька швидкість розробки.\n",
    "\n",
    "![dynamic_typing](media/dynamic_typing.png)\n",
    "\n",
    "Переваги динамічної типізації:\n",
    "* простота;\n",
    "* висока швидкість розробки;\n",
    "* універсальність.\n",
    "Недоліки:\n",
    "* помилки під час виконання.\n",
    "\n",
    "__Python – мова з сильною динамічною типізацією.__\n",
    "\n",
    "\n",
    "\n",
    "__Надійність__ — це властивість системи зберігати свою якість.\n",
    "\n",
    "__Надійне програмування__ — відносно нова інженерна культура, яка забезпечує надійний процес розробки та надійний продукт."
   ]
  },
  {
   "cell_type": "markdown",
   "metadata": {},
   "source": [
    "![professional_culture](media/professional_culture.jpg)"
   ]
  },
  {
   "cell_type": "markdown",
   "metadata": {},
   "source": [
    "![Робочий тиждень розробника](media/working_week_of_a_developer.png)"
   ]
  },
  {
   "cell_type": "markdown",
   "metadata": {},
   "source": [
    "Створення програмної системи — вельми трудомістка задача, особливо в наш час, коли обсяг коду програмного забезпечення дуже великий. \n",
    "\n",
    "На що витрачається час програміста у процесі створення програмного забезпечення(ПЗ)?\n",
    "\n",
    "1. Аналіз предметної області.\n",
    "2. Читання документації.\n",
    "3. Створення коду.\n",
    "4. Діагностика (пошук місця виникнення помилки у коді).\n",
    "5. Налагодження застосунку.\n",
    "6. Рутинні операції запуску застосунку.\n",
    "7. Виправлення помилок.\n",
    "8. Перепроектування.\n",
    "\n",
    "Перші 3 пункти — це корисний час, який використовує програміст у процесі створення ПЗ, інші — не корисні речі, які витрачають час програміста та знижують темп розробки.\n",
    "\n",
    "![stages_of_software_architecture_development](media/stages_of_software_architecture_development.jpg)\n",
    "\n",
    "Якщо помилку знаходять на початковому етапі процесу розробки, то це відносно дешево коштує, тому що ще відбувається аналіз проекту, його складових частин.\n",
    "\n",
    "![Golden Gate Bridge у Сан-Франциско](media/safety_net.jpeg)\n",
    "\n",
    "На даній фотографії зображена одна з метафор — процес будування [Golden Gate Bridge у Сан-Франциско](https://uk.wikipedia.org/wiki/%D0%9C%D1%96%D1%81%D1%82_%D0%97%D0%BE%D0%BB%D0%BE%D1%82%D0%B0_%D0%91%D1%80%D0%B0%D0%BC%D0%B0), який є візитною карткою півночі Каліфорнії. На той час це була дуже складна інженерна споруда. Техніка будівництва того часу була далекою від ідеалу. Якщо інженер-будівник оступався, він падав й був приречений на смерть практично на 100%, тому що відстань між мостом та проливом становила близько 60 метрів. Тому головний інженер проекту запровадив сітку безпеки \"safety net\" та почав розміщувати під прольтами мосту встановлювати цю сітку.\n",
    "На сьогодні біля мосту існує бронзова табличка під назвою [\"Half Way to Hell Club\"](https://en.wikipedia.org/wiki/Half_Way_to_Hell_Club).\n",
    "\n",
    "Автоматична перевірка типів у програмувані виступає у ролі \"safety net\" та дозволяє нам, навіть допустивши помилку, впасти на цю сітку. Це знімає стрес при релізі, до 99% помилок можна віднайти. Перевірка типів дозволяє уникнути написання та підтримки банальних модульних тестів. Якщо не здійснювати перевірку типів, то це може призвести дуже плачевні наслідки (існують випадки, де були допущені помилки у процесі проектування, наприклад, складних систем літальних апаратів, які призвели до аварій під час їх використання. Витрати на будування таких систем складали мільйони $).\n",
    "\n",
    "![technologies_of_reliable_programming](media/technologies_of_reliable_programming.png)\n",
    "\n",
    "![code_quality](media/code_quality.png)\n",
    "\n",
    "\n",
    "### Захист від дурня\n",
    "\n",
    "За́хист від ду́рня (англ. Poka-yoke яп. ポカヨケ) — захист техніки та/або програмного забезпечення від не правильних дій людей, як при користуванні, так і при технічному обслуговуванні або виготовленні. Poka-yoke — це один з методів ощадливого виробництва, завдяки якому дефекти просто не можуть з'явитися.\n",
    "\n",
    "![robust_testing](media/robust_testing.png)\n",
    "\n",
    "## Типізація або перевірка типів\n",
    "\n",
    "У жовтні 2019 р. Гвідо ван Россум покинув компанію Dropbox після шести з половиною років роботи, пішовши на пенсію після шести з половиною років роботи.\n",
    "\n",
    "За час роботи у Dropbox ван Россум зосередився на кількох напрямках, у тому числі допоміг налагодити процес тестування та створити систему перевірки типів для Python, що отримала назву [mypy](https://mypy.readthedocs.io/en/stable/).\n",
    "\n",
    "Також ван Россум відповідальний за створення більш легкого в підтримці коду, який можуть швидко розбирати нові розробники. За його словами, коли він тільки прийшов до Dropbox(у 2012 р.), там розробники використовували «розумний» код (clever code), який розуміли тільки вони.\n",
    "\n",
    "Для стартапу створення «розумного» коду здається правильним, але в міру зростання та розширення команди розробки таке рішення вже не підійде, пояснив ван Россум.\n",
    "\n",
    "\"Якщо мене запитають, я відповім, що легкий у підтримці код важливіше, ніж «розумний». Якби я зіткнувся з «розумним» кодом, коротким та загадковим, й мені довелося б займатися його підтримкою, я швидше за все переписав би його\" — говорив Гвідо.\n",
    "\n",
    "У Python 3 з'явився синтаксис для анотацій функцій [PEP 3107](https://peps.python.org/pep-3107/), додав синтаксис для додавання довільних анотацій метаданих до функцій Python. Оскільки у Python 2.x відсутній стандартний спосіб анотування параметрів функції та значень, що повертаються, для заповнення цієї прогалини з’явилися різноманітні інструменти та бібліотеки. Деякі використовують декоратори, представлені у [PEP 318](https://peps.python.org/pep-0318/), тоді як інші аналізують рядок документації функції, шукаючи там анотації. Цей PEP має на меті забезпечити єдиний стандартний спосіб визначення цієї інформації, зменшуючи плутанину, спричинену великою варіацією механізму та синтаксису, яка існувала до цього моменту.\n",
    "\n",
    "\n",
    "### Основи анотацій функцій\n",
    "\n",
    "Перш ніж почати обговорення точних переваг та недоліків анотацій функцій Python 3.0, давайте спершу поговоримо широко про те, чим є анотації, а чим ні:\n",
    "* анотації функцій, як для параметрів, так й для значень, що повертаються, абсолютно необов’язкові;\n",
    "* анотації функцій — це не що інше, як спосіб асоціювати довільні вирази Python з різними частинами функції під час компіляції.\n",
    "\n",
    "Python не надає особливого значення анотаціям, тобто код може бути створений без них та працювати також, але інше питання, на скільки зростає вірогідність виникнення помилок (інтерпретатор не перевіряє підказки типів).\n",
    "\n",
    "Сфера застосування:\n",
    "1. Документація.\n",
    "2. Перевірка типів.\n",
    "3. Інтеграція з іншими мовами/СУБД.\n",
    "\n",
    "Розглянемо функцію з проекту соцмережі:"
   ]
  },
  {
   "cell_type": "code",
   "execution_count": null,
   "metadata": {
    "pycharm": {
     "is_executing": true
    }
   },
   "outputs": [],
   "source": [
    "async def create_project(\n",
    "    self,\n",
    "    session: Session,\n",
    "    title: str,\n",
    "    actor_profile: Profile,\n",
    "    members: List[Profile],\n",
    "    leaders: List[Profile],\n",
    "    attributes: dict,\n",
    "    public: bool,\n",
    "    community: Optional[Community] = None,\n",
    "    folder_descriptor_id: Optional[str] = None,\n",
    "    linked_projects_ids: Optional[List[str]]\n",
    ") -> Project:\n",
    "    pass"
   ]
  },
  {
   "cell_type": "markdown",
   "metadata": {},
   "source": [
    "В даній асинхронній функції create_project() проанатовано, який тип для кожного об'єкту повинен надаватися для подальшої коректної роботи.\n",
    "\n",
    "У Python 3.5 з'явився синтаксис для анотацій типів [PEP 484](https://peps.python.org/pep-0484/), мета якого спростити статичну перевірку типів, у тому числі потенційно під час виконання. Це заклало фундамент перевірки типів на етапі завантаження застосунку.\n",
    "\n",
    "Як казав Гвідо, \"Python залишиться динамічно типізованою мовою та автори не хочуть робити підказки щодо типів обов’язковими, навіть за угодою\".\n",
    "\n",
    "Тобто можна далі продовжувати писати ПЗ мовою python повністю спираючись на [duck typing](https://uk.wikipedia.org/wiki/%D0%9A%D0%B0%D1%87%D0%B8%D0%BD%D0%B0_%D1%82%D0%B8%D0%BF%D1%96%D0%B7%D0%B0%D1%86%D1%96%D1%8F).\n",
    "\n",
    "За PEP 484 анотаціями може бути:\n",
    "- вбудовані типи;\n",
    "- абстрактні класи;\n",
    "- типи з модуля typing;\n",
    "- класи з сторонніх бібліотек;\n",
    "- користувацькі класи.\n",
    "Також дозволено створювати анотації у спеціальних мета-коментарях.\n",
    "\n",
    "Додано:\n",
    "* type alias;\n",
    "* callable;\n",
    "* Dict[K, V];\n",
    "* generics;\n",
    "* forward references;\n",
    "* union;\n",
    "* optional;\n",
    "* any;\n",
    "* NoReturn;\n",
    "* анотації генераторів.\n",
    "\n",
    "Порівняємо роботу звичайної функції та проанатованої. Наприклад:"
   ]
  },
  {
   "cell_type": "code",
   "execution_count": 40,
   "metadata": {
    "scrolled": true
   },
   "outputs": [
    {
     "name": "stdout",
     "output_type": "stream",
     "text": [
      "Hello Ivan\n",
      "Hello 123\n"
     ]
    }
   ],
   "source": [
    "def greeting(name):\n",
    "    return 'Hello ' + name\n",
    "\n",
    "\n",
    "print(greeting('Ivan'))\n",
    "print(greeting('123'))"
   ]
  },
  {
   "cell_type": "code",
   "execution_count": 13,
   "metadata": {},
   "outputs": [
    {
     "name": "stdout",
     "output_type": "stream",
     "text": [
      "Hello Ivan\n",
      "Hello 123\n"
     ]
    }
   ],
   "source": [
    "def greeting(name: str) -> str:\n",
    "    return 'Hello ' + name\n",
    "\n",
    "\n",
    "print(greeting('Ivan'))\n",
    "print(greeting('123'))"
   ]
  },
  {
   "cell_type": "markdown",
   "metadata": {},
   "source": [
    "## Type alias\n",
    "Синонім типу, або псевдонім типу.\n",
    "Якщо у необхідно часто користуватися складним типом, наприклад, списком об'єктів типу float, то можна йому надати ім'я Vector:"
   ]
  },
  {
   "cell_type": "code",
   "execution_count": 41,
   "metadata": {
    "pycharm": {
     "is_executing": true
    }
   },
   "outputs": [
    {
     "name": "stdout",
     "output_type": "stream",
     "text": [
      "[2.25, 8.1, -5.3999999999999995]\n"
     ]
    }
   ],
   "source": [
    "from typing import List\n",
    "\n",
    "# Vector is a list of float values\n",
    "Vector = List[float]\n",
    "\n",
    "def scale(scalar: float, vector: Vector) -> Vector:\n",
    "    return [scalar * num for num in vector]\n",
    "\n",
    "\n",
    "my_vector = scale(4.5, [0.5, 1.8, -1.2])\n",
    "print(my_vector)"
   ]
  },
  {
   "cell_type": "markdown",
   "metadata": {},
   "source": [
    "Приклад показує, що це, насправді, дуже зручно.\n",
    "\n",
    "Або інший приклад:"
   ]
  },
  {
   "cell_type": "code",
   "execution_count": 22,
   "metadata": {},
   "outputs": [
    {
     "name": "stdout",
     "output_type": "stream",
     "text": [
      "test_urltest_urltest_urltest_urltest_url\n",
      "test_urltest_urltest_urltest_urltest_url\n"
     ]
    }
   ],
   "source": [
    "Url = str\n",
    "\n",
    "\n",
    "def retry(url: Url, retry_count: int) -> str:\n",
    "    return f'{url * retry_count}'\n",
    "\n",
    "\n",
    "print(retry('test_url', 5))\n",
    "print(retry(Url('test_url'), 5))"
   ]
  },
  {
   "cell_type": "markdown",
   "metadata": {},
   "source": [
    "Також можна створити власний тип за допомогою класу NewType:"
   ]
  },
  {
   "cell_type": "code",
   "execution_count": null,
   "metadata": {
    "pycharm": {
     "is_executing": true
    }
   },
   "outputs": [],
   "source": [
    "from typing import NewType\n",
    "\n",
    "\n",
    "UserId = NewType('UserId', int)\n",
    "print(type(UserId))\n",
    "some_id = UserId(618438)\n",
    "print(type(some_id), some_id)\n",
    "\n",
    "\n",
    "def get_user_name(user_id: UserId) -> str:\n",
    "    return f'{user_id}'\n",
    "\n",
    "\n",
    "user_1 = get_user_name(UserId(321654))\n",
    "user_2 = get_user_name(UserId(-1))\n",
    "print(user_1, user_2, sep='\\n')"
   ]
  },
  {
   "cell_type": "code",
   "execution_count": 4,
   "metadata": {},
   "outputs": [
    {
     "name": "stdout",
     "output_type": "stream",
     "text": [
      "<class 'typing.NewType'>\n",
      "<class 'float'> 61.8438\n",
      "\n",
      "321654\n",
      "-1\n"
     ]
    }
   ],
   "source": [
    "from typing import NewType\n",
    "\n",
    "\n",
    "Price = NewType('Price', float)\n",
    "print(type(Price))\n",
    "some_price = Price(61.8438)\n",
    "print(type(some_price), some_price, end='\\n\\n')\n",
    "\n",
    "\n",
    "def get_price(user_price: Price) -> str:\n",
    "    return f'{user_price}'\n",
    "\n",
    "\n",
    "price_1 = get_price(Price(321654))\n",
    "price_2 = get_price(-1)\n",
    "print(price_1, price_2, sep='\\n')"
   ]
  },
  {
   "cell_type": "markdown",
   "metadata": {},
   "source": [
    "Псевдоніми типів можуть бути такими ж складними, як підказки типу в анотаціях:"
   ]
  },
  {
   "cell_type": "code",
   "execution_count": 32,
   "metadata": {},
   "outputs": [
    {
     "name": "stdout",
     "output_type": "stream",
     "text": [
      "[17.5, <generator object dilate.<locals>.<genexpr> at 0x000001FD0901FF10>]\n"
     ]
    }
   ],
   "source": [
    "from typing import TypeVar, Iterable, Tuple\n",
    "\n",
    "T = TypeVar('T', int, float, complex)\n",
    "Vector = Iterable[Tuple[T, T]]\n",
    "\n",
    "\n",
    "def inproduct(v: Vector[T]) -> T:\n",
    "    return sum(x * y for x, y in v)\n",
    "\n",
    "\n",
    "def dilate(v: Vector[T], scale: T) -> Vector[T]:\n",
    "    return ((x * scale, y * scale) for x, y in v)\n",
    "\n",
    "\n",
    "vec: Vector = [inproduct([(1.5, 5), (2.5, 4)]), dilate((1.5, 5), 5)]  # type: Vector[float]\n",
    "print(vec)"
   ]
  },
  {
   "cell_type": "markdown",
   "metadata": {},
   "source": [
    "Це еквівалентно:"
   ]
  },
  {
   "cell_type": "code",
   "execution_count": 33,
   "metadata": {},
   "outputs": [
    {
     "name": "stdout",
     "output_type": "stream",
     "text": [
      "[17.5, <generator object dilate.<locals>.<genexpr> at 0x000001FD08F9ED40>]\n"
     ]
    }
   ],
   "source": [
    "from typing import TypeVar, Iterable, Tuple\n",
    "\n",
    "T = TypeVar('T', int, float, complex)\n",
    "\n",
    "\n",
    "def inproduct(v: Iterable[Tuple[T, T]]) -> T:\n",
    "    return sum(x * y for x, y in v)\n",
    "\n",
    "\n",
    "def dilate(v: Iterable[Tuple[T, T]], scale: T) -> Iterable[Tuple[T, T]]:\n",
    "    return ((x * scale, y * scale) for x, y in v)\n",
    "\n",
    "\n",
    "vec: Vector = [inproduct([(1.5, 5), (2.5, 4)]), dilate((1.5, 5), 5)]  # type: Iterable[Tuple[float, float]]\n",
    "print(vec)"
   ]
  },
  {
   "cell_type": "markdown",
   "metadata": {},
   "source": [
    "### Callable\n",
    "\n",
    "Фреймворки, які очікують функцій зворотного виклику певних сигнатур, можуть мати підказку типу за допомогою \n",
    "Callable[[Arg1Type, Arg2Type], ReturnType]. \n",
    "Наприклад:"
   ]
  },
  {
   "cell_type": "code",
   "execution_count": null,
   "metadata": {},
   "outputs": [],
   "source": [
    "from typing import Callable\n",
    "\n",
    "\n",
    "def feeder(get_next_item: Callable[[], str]) -> None:\n",
    "    pass # Body\n",
    "\n",
    "\n",
    "def async_query(on_success: Callable[[int], None], on_error: Callable[[int, Exception], None]) -> None:\n",
    "    pass # Body"
   ]
  },
  {
   "cell_type": "markdown",
   "metadata": {},
   "source": [
    "### Generics\n",
    "\n",
    "Оскільки інформація про тип об’єктів, що зберігається в контейнерах, не може бути статично виведена загальним способом, абстрактні базові класи були розширені для підтримки підписки для позначення очікуваних типів для елементів контейнера. Наприклад:"
   ]
  },
  {
   "cell_type": "code",
   "execution_count": null,
   "metadata": {},
   "outputs": [],
   "source": [
    "from typing import Mapping, Set\n",
    "\n",
    "def notify_by_email(employees: Set[Employee], overrides: Mapping[str, str]) -> None:\n",
    "    pass"
   ]
  },
  {
   "cell_type": "markdown",
   "metadata": {},
   "source": [
    "Універсальні типи(\"Дженерики\") можна параметризувати за допомогою нової фабрики, доступної для типізації під назвою TypeVar. Наприклад:"
   ]
  },
  {
   "cell_type": "code",
   "execution_count": 35,
   "metadata": {},
   "outputs": [
    {
     "name": "stdout",
     "output_type": "stream",
     "text": [
      "1\n",
      "1\n",
      "1\n"
     ]
    }
   ],
   "source": [
    "from typing import Sequence, TypeVar\n",
    "\n",
    "T = TypeVar('T')      # Declare type variable\n",
    "\n",
    "def first(l: Sequence[T]) -> T:   # Generic function\n",
    "    return l[0]\n",
    "\n",
    "\n",
    "print(first([1, 2, 3]))\n",
    "print(first((1, 2, 3)))\n",
    "print(first('1, 2, 3'))"
   ]
  },
  {
   "cell_type": "markdown",
   "metadata": {},
   "source": [
    "### User-defined generic types\n",
    "\n",
    "Ви можете включити базовий клас Generic, щоб визначити визначений користувачем клас як загальний.\n",
    "Наприклад:"
   ]
  },
  {
   "cell_type": "code",
   "execution_count": 36,
   "metadata": {},
   "outputs": [],
   "source": [
    "from typing import TypeVar, Generic\n",
    "from logging import Logger\n",
    "\n",
    "T = TypeVar('T')\n",
    "\n",
    "class LoggedVar(Generic[T]):\n",
    "    def __init__(self, value: T, name: str, logger: Logger) -> None:\n",
    "        self.name = name\n",
    "        self.logger = logger\n",
    "        self.value = value\n",
    "\n",
    "    def set(self, new: T) -> None:\n",
    "        self.log('Set ' + repr(self.value))\n",
    "        self.value = new\n",
    "\n",
    "    def get(self) -> T:\n",
    "        self.log('Get ' + repr(self.value))\n",
    "        return self.value\n",
    "\n",
    "    def log(self, message: str) -> None:\n",
    "        self.logger.info('{}: {}'.format(self.name, message))"
   ]
  },
  {
   "cell_type": "markdown",
   "metadata": {},
   "source": [
    "### Анотації змінних\n",
    "\n",
    "У Python 3.6 з'явився синтаксис для анотацій змінних [PEP 526](https://peps.python.org/pep-0526/). Суть цього PEP у тому, щоб перевести ідею анотацій типів [PEP 484](https://peps.python.org/pep-0484/) на її наступний логічний рівень, тобто уможливити зазначення типів змінних, зокрема та поля класів та об'єктів.\n",
    "\n",
    "Варто зважити, що це нововведення не робить Python статично типізованою мовою. Інтерпретатору однаково, який тип вказаний у змінній. Проте у середовищі розробки на Python або іншому інструменті на кшталт [pylint](https://pypi.org/project/pylint/) може бути активована функція перевірки анотацій, яка повідомить вам, якщо ви спочатку вказали один тип змінної, а потім спробували використовувати її як інший тип далі у програмі.\n",
    "\n",
    "### Приклад анотації\n",
    "\n",
    "Погляньте на приклад без анотацій:"
   ]
  },
  {
   "cell_type": "code",
   "execution_count": 5,
   "metadata": {},
   "outputs": [
    {
     "name": "stdout",
     "output_type": "stream",
     "text": [
      "10\n",
      "Test1\n"
     ]
    }
   ],
   "source": [
    "value = 10\n",
    "\n",
    "\n",
    "class User:\n",
    "    def __init__(self, first_name, last_name):\n",
    "        self.first_name = first_name\n",
    "        self.last_name = last_name\n",
    "\n",
    "\n",
    "def create_new_user(first_name, last_name):\n",
    "    print(first_name)\n",
    "    return User(first_name=first_name, last_name=last_name)\n",
    "\n",
    "\n",
    "user1 = create_new_user(value, value)\n",
    "user2 = create_new_user('Test1', 'Test2')"
   ]
  },
  {
   "cell_type": "markdown",
   "metadata": {},
   "source": [
    "В даному прикладі у функції create_user() маємо неоднозначність типів та перетворень. Стандартній функції print() неважливо який об'єкт роздруковувати чи це будь-яка послідовність, чи число, то з одного боку начебто усе добре й код відпрацював без помилок.\n",
    "\n",
    "Але якщо додати виклик методу, який притаманний тільки конкретному типу даних, по можна отримати помилку AttributeError:\n"
   ]
  },
  {
   "cell_type": "code",
   "execution_count": 6,
   "metadata": {
    "scrolled": true
   },
   "outputs": [
    {
     "name": "stdout",
     "output_type": "stream",
     "text": [
      "EUGENE TEST\n",
      "Eugene Test\n"
     ]
    },
    {
     "ename": "AttributeError",
     "evalue": "'int' object has no attribute 'upper'",
     "output_type": "error",
     "traceback": [
      "\u001b[1;31m---------------------------------------------------------------------------\u001b[0m",
      "\u001b[1;31mAttributeError\u001b[0m                            Traceback (most recent call last)",
      "Cell \u001b[1;32mIn [6], line 17\u001b[0m\n\u001b[0;32m     13\u001b[0m     \u001b[38;5;28;01mreturn\u001b[39;00m User(first_name\u001b[38;5;241m=\u001b[39mfirst_name, last_name\u001b[38;5;241m=\u001b[39mlast_name)\n\u001b[0;32m     16\u001b[0m user1 \u001b[38;5;241m=\u001b[39m create_new_user(\u001b[38;5;124m'\u001b[39m\u001b[38;5;124mEugene\u001b[39m\u001b[38;5;124m'\u001b[39m, \u001b[38;5;124m'\u001b[39m\u001b[38;5;124mTeSt\u001b[39m\u001b[38;5;124m'\u001b[39m)\n\u001b[1;32m---> 17\u001b[0m user2 \u001b[38;5;241m=\u001b[39m create_new_user(\u001b[38;5;241m10\u001b[39m, \u001b[38;5;241m10\u001b[39m)\n",
      "Cell \u001b[1;32mIn [6], line 11\u001b[0m, in \u001b[0;36mcreate_new_user\u001b[1;34m(first_name, last_name)\u001b[0m\n\u001b[0;32m     10\u001b[0m \u001b[38;5;28;01mdef\u001b[39;00m \u001b[38;5;21mcreate_new_user\u001b[39m(first_name, last_name):\n\u001b[1;32m---> 11\u001b[0m     \u001b[38;5;28mprint\u001b[39m(first_name\u001b[38;5;241m.\u001b[39mupper(), last_name\u001b[38;5;241m.\u001b[39mupper())\n\u001b[0;32m     12\u001b[0m     \u001b[38;5;28mprint\u001b[39m(first_name\u001b[38;5;241m.\u001b[39mtitle(), last_name\u001b[38;5;241m.\u001b[39mtitle())\n\u001b[0;32m     13\u001b[0m     \u001b[38;5;28;01mreturn\u001b[39;00m User(first_name\u001b[38;5;241m=\u001b[39mfirst_name, last_name\u001b[38;5;241m=\u001b[39mlast_name)\n",
      "\u001b[1;31mAttributeError\u001b[0m: 'int' object has no attribute 'upper'"
     ]
    }
   ],
   "source": [
    "value = 10\n",
    "\n",
    "\n",
    "class User:\n",
    "    def __init__(self, first_name, last_name):\n",
    "        self.first_name = first_name\n",
    "        self.last_name = last_name\n",
    "\n",
    "\n",
    "def create_new_user(first_name, last_name):\n",
    "    print(first_name.upper(), last_name.upper())\n",
    "    print(first_name.title(), last_name.title())\n",
    "    return User(first_name=first_name, last_name=last_name)\n",
    "\n",
    "\n",
    "user1 = create_new_user('Eugene', 'TeSt')\n",
    "user2 = create_new_user(10, 10)"
   ]
  },
  {
   "cell_type": "markdown",
   "metadata": {},
   "source": [
    "Якщо треба передбачити варіант отримання об'єкту конкретного типу даних для подальшої роботи з методами певного типу, то одним з варіантів вирішення проблеми, яка може виникнути є залучення анотацій типів. \n",
    "\n",
    "Додамо анотації до коду:"
   ]
  },
  {
   "cell_type": "code",
   "execution_count": null,
   "metadata": {},
   "outputs": [],
   "source": [
    "value: int = 10\n",
    "\n",
    "\n",
    "class User:\n",
    "    def __init__(self, first_name: str, last_name: str):\n",
    "        self.first_name = first_name\n",
    "        self.last_name = last_name\n",
    "\n",
    "\n",
    "def create_new_user(first_name: str, last_name: str) -> User:\n",
    "    print(first_name.upper(), last_name.upper())\n",
    "    print(first_name.title(), last_name.title())\n",
    "    return User(first_name=first_name, last_name=last_name)\n",
    "\n",
    "\n",
    "user: User = create_new_user('Eugene', 'TeSt')"
   ]
  },
  {
   "cell_type": "markdown",
   "metadata": {},
   "source": [
    "У таких анотаціях дві переваги:\n",
    "1.\tЗ боку IDE програміст отримує більше підказок.\n",
    "2.\tПрограмісту легше орієнтуватися серед змінних, знаючи їхній тип.\n",
    "\n",
    "Наче усе добре, спробуємо потестувати код:"
   ]
  },
  {
   "cell_type": "code",
   "execution_count": null,
   "metadata": {},
   "outputs": [],
   "source": [
    "value: int = 10\n",
    "\n",
    "\n",
    "class User:\n",
    "    def __init__(self, first_name: str, last_name: str):\n",
    "        self.first_name = first_name\n",
    "        self.last_name = last_name\n",
    "\n",
    "\n",
    "def create_new_user(first_name: str, last_name: str) -> User:\n",
    "    print(first_name.upper(), last_name.upper())\n",
    "    print(first_name.title(), last_name.title())\n",
    "    return User(first_name=first_name, last_name=last_name)\n",
    "\n",
    "\n",
    "user1: User = create_new_user('Eugene', 'TeSt')\n",
    "user2: User = create_new_user(10, 10)"
   ]
  },
  {
   "cell_type": "markdown",
   "metadata": {},
   "source": [
    "#### Типізовані словники\n",
    "\n",
    "У 2019 році були введені типізовані словники([PEP 589](https://peps.python.org/pep-0589/)), за допомогою яких можна типізувати не просто Dict[K, V], де усі ключі одного типу, а значення - іншого, але й похідні словники.\n",
    "Дуже корисна річ, для пошуку орфографічних помилок у ключах, та перевага у майбутньому, щоб не забувати назву атрибутів словника."
   ]
  },
  {
   "cell_type": "code",
   "execution_count": null,
   "metadata": {},
   "outputs": [],
   "source": [
    "from typing import TypedDict\n",
    "\n",
    "\n",
    "class Point2D(TypedDict):\n",
    "    x: int\n",
    "    y: int\n",
    "    label: str\n",
    "\n",
    "\n",
    "a: Point2D = {'x': 1, 'y': 2, 'label': 'great'}\n",
    "b: Point2D = {'w': 24, 'label': 'bad'}\n",
    "\n",
    "assert Point2D(x=15, y=25, label='third') == dict(x=15, y=25, label='third')"
   ]
  },
  {
   "cell_type": "code",
   "execution_count": 37,
   "metadata": {},
   "outputs": [
    {
     "name": "stdout",
     "output_type": "stream",
     "text": [
      "{'name': 'Blade Runner', 'year': 1982}\n"
     ]
    }
   ],
   "source": [
    "from typing import TypedDict\n",
    "\n",
    "\n",
    "class Movie(TypedDict):\n",
    "    name: str\n",
    "    year: int\n",
    "        \n",
    "        \n",
    "movie: Movie = {'name': 'Blade Runner',\n",
    "                'year': 1982}\n",
    "\n",
    "print(movie)"
   ]
  },
  {
   "cell_type": "code",
   "execution_count": 38,
   "metadata": {},
   "outputs": [
    {
     "name": "stdout",
     "output_type": "stream",
     "text": [
      "{'name': 'Blade Runner', 'year': 1982}\n"
     ]
    }
   ],
   "source": [
    "def record_movie(movie: Movie) -> None: \n",
    "    print(movie)\n",
    "\n",
    "    \n",
    "record_movie({'name': 'Blade Runner', 'year': 1982})"
   ]
  },
  {
   "cell_type": "markdown",
   "metadata": {},
   "source": [
    "#### Статична перевірка коду\n",
    "\n",
    "[mypy](https://pypi.org/project/mypy/) — перевірка коду на вірне використання типів. Документацію можна переглянути за [посиланням](https://mypy.readthedocs.io/en/stable/index.html).\n"
   ]
  },
  {
   "cell_type": "markdown",
   "metadata": {},
   "source": [
    "#### Статичний аналіз коду\n",
    "\n",
    "[Pylint](https://pypi.org/project/pylint/) — це програмне забезпечення з відкритим вихідним кодом для статичного аналізу коду мовою програмування Python. Підтримує рекомендації [PEP 8](https://peps.python.org/pep-0008/).\n",
    "Pylint – це програма для перевірки вихідного коду, помилок та якості для мови програмування Python. Він названий відповідно до загальноприйнятої у Python угоди про префікс \"py\" та посиланням до програми lint для програмування на C. Він дотримується стилю, рекомендованого PEP 8, посібником за стилем Python. Він схожий на [Pychecker](https://pypi.org/project/PyChecker/) та [Pyflakes](https://pypi.org/project/pyflakes/), але включає наступні функції:\n",
    "1. Перевірка довжини кожного рядка\n",
    "2. Перевірка правильності формування імен змінних відповідно до стандарту кодування проекту\n",
    "3. Перевірка того, що заявлені інтерфейси справді реалізовані\n",
    "\n",
    "Pylint також оснащений модулем [Pyreverse](https://pypi.org/project/pyreverse/), який дозволяє створювати UML-діаграми з коду Python. Його можна використовувати як окрему програму, але він також інтегрується з такими IDE як Eclipse, PyDev та Visual Studio Code, а також з такими редакторами, як Atom, GNU Emacs й Vim.\n",
    "\n",
    "Він отримав позитивні відгуки.\n",
    "\n",
    "Ви можете налаштувати pylint для роботи з PyCharm, виконавши такі кроки:\n",
    "1. Встановити pylint, надрукувавши у терміналі наступну команду:"
   ]
  },
  {
   "cell_type": "code",
   "execution_count": null,
   "metadata": {},
   "outputs": [],
   "source": [
    "pip install pylint"
   ]
  },
  {
   "cell_type": "markdown",
   "metadata": {},
   "source": [
    "Далі йдемо до налаштувань, відкриваючи вікно параметрів PyCharm за допомогою меню,\n",
    "\"File → Settings → Tools → External Tools\":\n",
    "\n",
    "![settings_1](media/settings_1.png)"
   ]
  },
  {
   "cell_type": "markdown",
   "metadata": {},
   "source": [
    "Налаштуйте зовнішній інструмент, натиснувши на знак + та заповнивши відповідні поля. У програмі використовуйте шлях, який ви отримали при запуску якого pylint, для інших значень ви можете використовувати те саме зображення.\n",
    "\n",
    "![settings_2](media/settings_2.png)"
   ]
  },
  {
   "cell_type": "markdown",
   "metadata": {},
   "source": [
    "Завантажте pylint з Tools → External Tools → pylint:\n",
    "\n",
    "![settings_3](media/settings_3.png)"
   ]
  },
  {
   "cell_type": "markdown",
   "metadata": {},
   "source": [
    "Налаштування конфігурації для pylint:"
   ]
  },
  {
   "cell_type": "code",
   "execution_count": null,
   "metadata": {},
   "outputs": [],
   "source": [
    "pylint --generate-rcfile > .pylint.rc"
   ]
  },
  {
   "cell_type": "markdown",
   "metadata": {},
   "source": [
    "Модуль flake8 можна встановити за допомогою терміналу:"
   ]
  },
  {
   "cell_type": "code",
   "execution_count": null,
   "metadata": {},
   "outputs": [],
   "source": [
    "pip install flake8-bugbear"
   ]
  }
 ],
 "metadata": {
  "kernelspec": {
   "display_name": "Python 3 (ipykernel)",
   "language": "python",
   "name": "python3"
  },
  "language_info": {
   "codemirror_mode": {
    "name": "ipython",
    "version": 3
   },
   "file_extension": ".py",
   "mimetype": "text/x-python",
   "name": "python",
   "nbconvert_exporter": "python",
   "pygments_lexer": "ipython3",
   "version": "3.11.0"
  }
 },
 "nbformat": 4,
 "nbformat_minor": 1
}
